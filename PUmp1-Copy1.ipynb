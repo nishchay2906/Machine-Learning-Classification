{
 "cells": [
  {
   "cell_type": "code",
   "execution_count": 1,
   "metadata": {},
   "outputs": [],
   "source": [
    "import pandas as pd\n",
    "import numpy as np\n",
    "import matplotlib.pyplot as plt\n",
    "import seaborn as sns\n",
    "import datetime as dt"
   ]
  },
  {
   "cell_type": "markdown",
   "metadata": {},
   "source": [
    "+## Merging and Cleaning"
   ]
  },
  {
   "cell_type": "code",
   "execution_count": 70,
   "metadata": {},
   "outputs": [],
   "source": [
    "train_vals = pd.read_csv(r\"MMA 869/Training features.csv\")"
   ]
  },
  {
   "cell_type": "code",
   "execution_count": null,
   "metadata": {},
   "outputs": [],
   "source": [
    "train_vals.shape"
   ]
  },
  {
   "cell_type": "code",
   "execution_count": null,
   "metadata": {},
   "outputs": [],
   "source": [
    "train_labels = pd.read_csv(r\"MMA 869/Training labels.csv\")"
   ]
  },
  {
   "cell_type": "code",
   "execution_count": null,
   "metadata": {},
   "outputs": [],
   "source": [
    "train_data = pd.merge(train_vals, train_labels, on='id', how='left')"
   ]
  },
  {
   "cell_type": "code",
   "execution_count": null,
   "metadata": {},
   "outputs": [],
   "source": [
    "test_data = pd.read_csv(r\"MMA 869/Test set values.csv\")"
   ]
  },
  {
   "cell_type": "code",
   "execution_count": null,
   "metadata": {},
   "outputs": [],
   "source": [
    "def display_dataframe_without_trim():\n",
    "    pd.set_option('display.max_rows', None)\n",
    "    pd.set_option('display.max_columns', None)\n",
    "    pd.set_option('display.width', None)\n",
    "    pd.set_option('display.max_colwidth', 100)\n",
    "    \n",
    "display_dataframe_without_trim()"
   ]
  },
  {
   "cell_type": "code",
   "execution_count": null,
   "metadata": {},
   "outputs": [],
   "source": [
    "train_data.head(50)"
   ]
  },
  {
   "cell_type": "code",
   "execution_count": null,
   "metadata": {},
   "outputs": [],
   "source": [
    "train_data.shape"
   ]
  },
  {
   "cell_type": "code",
   "execution_count": null,
   "metadata": {},
   "outputs": [],
   "source": [
    "test_data.shape"
   ]
  },
  {
   "cell_type": "markdown",
   "metadata": {},
   "source": [
    "### Missing values"
   ]
  },
  {
   "cell_type": "code",
   "execution_count": null,
   "metadata": {},
   "outputs": [],
   "source": [
    "train_data.isna().sum()"
   ]
  },
  {
   "cell_type": "code",
   "execution_count": null,
   "metadata": {},
   "outputs": [],
   "source": [
    "# columns with NAs are funder, installer, subvillage, public_meeting, scheme_management, scheme_name, permit"
   ]
  },
  {
   "cell_type": "code",
   "execution_count": null,
   "metadata": {},
   "outputs": [],
   "source": [
    "# dropping columns based on intuition"
   ]
  },
  {
   "cell_type": "code",
   "execution_count": null,
   "metadata": {
    "scrolled": true
   },
   "outputs": [],
   "source": [
    "train_data.recorded_by.unique()"
   ]
  },
  {
   "cell_type": "code",
   "execution_count": null,
   "metadata": {},
   "outputs": [],
   "source": [
    "# How many waterpoints are permitted\n",
    "train_data.permit.value_counts()"
   ]
  },
  {
   "cell_type": "code",
   "execution_count": null,
   "metadata": {},
   "outputs": [],
   "source": [
    "'''\n",
    "drop these columns: wpt_name, region, recorded_by,extraction_type_group,extraction_type_class,payment,quality_group,\n",
    "quantity_group,source_type,water_point_type_group\n",
    "'''\n",
    "train_data.drop(columns=['wpt_name','region','recorded_by','extraction_type_group','extraction_type_class',\n",
    "                        'payment','quality_group','quantity_group','source_type','waterpoint_type_group'], inplace=True)"
   ]
  },
  {
   "cell_type": "code",
   "execution_count": null,
   "metadata": {},
   "outputs": [],
   "source": [
    "test_data.drop(columns=['wpt_name','region','recorded_by','extraction_type_group','extraction_type_class',\n",
    "                        'payment','quality_group','quantity_group','source_type','waterpoint_type_group'], inplace=True)"
   ]
  },
  {
   "cell_type": "code",
   "execution_count": null,
   "metadata": {},
   "outputs": [],
   "source": [
    "train_data.shape"
   ]
  },
  {
   "cell_type": "code",
   "execution_count": null,
   "metadata": {
    "scrolled": true
   },
   "outputs": [],
   "source": [
    "train_data.head()"
   ]
  },
  {
   "cell_type": "code",
   "execution_count": null,
   "metadata": {},
   "outputs": [],
   "source": [
    "train_data.source.nunique()"
   ]
  },
  {
   "cell_type": "code",
   "execution_count": null,
   "metadata": {},
   "outputs": [],
   "source": [
    "train_data.funder.value_counts()"
   ]
  },
  {
   "cell_type": "code",
   "execution_count": null,
   "metadata": {
    "scrolled": true
   },
   "outputs": [],
   "source": [
    "# handling NAs for funder\n",
    "df = train_data.funder.value_counts().to_frame().reset_index()\n",
    "\n",
    "# replace with mode\n",
    "train_data.loc[train_data.funder.isna(), 'funder'] = train_data.funder.mode().values[0]"
   ]
  },
  {
   "cell_type": "code",
   "execution_count": null,
   "metadata": {},
   "outputs": [],
   "source": [
    "train_data.installer.value_counts()"
   ]
  },
  {
   "cell_type": "code",
   "execution_count": null,
   "metadata": {},
   "outputs": [],
   "source": [
    "train_data.installer.isna().sum()"
   ]
  },
  {
   "cell_type": "code",
   "execution_count": null,
   "metadata": {},
   "outputs": [],
   "source": [
    "# Installer NAs\n",
    "df = train_data.installer.value_counts().to_frame().reset_index()\n",
    "# few = df.loc[df.installer < 5, 'index']\n",
    "\n",
    "# replace with mode\n",
    "train_data.loc[train_data.installer.isna(), 'installer'] = train_data.installer.mode().values[0]"
   ]
  },
  {
   "cell_type": "code",
   "execution_count": null,
   "metadata": {},
   "outputs": [],
   "source": [
    "# subvillage NAs - replace with mode\n",
    "train_data.loc[train_data.subvillage.isna(), 'subvillage'] = train_data.subvillage.mode().values[0]"
   ]
  },
  {
   "cell_type": "code",
   "execution_count": null,
   "metadata": {},
   "outputs": [],
   "source": [
    "# public meeting NAs\n",
    "train_data.public_meeting.value_counts()"
   ]
  },
  {
   "cell_type": "code",
   "execution_count": null,
   "metadata": {},
   "outputs": [],
   "source": [
    "# replace with mode\n",
    "train_data.loc[train_data.public_meeting.isna(), 'public_meeting'] = train_data.public_meeting.mode().values[0]"
   ]
  },
  {
   "cell_type": "code",
   "execution_count": null,
   "metadata": {},
   "outputs": [],
   "source": [
    "# scheme_management NAs\n",
    "train_data.scheme_management.value_counts()"
   ]
  },
  {
   "cell_type": "code",
   "execution_count": null,
   "metadata": {},
   "outputs": [],
   "source": [
    "# replace with mode\n",
    "train_data.loc[train_data.scheme_management.isna(), \n",
    "               'scheme_management'] = train_data.scheme_management.mode().values[0]\n",
    "# correct 'None' record\n",
    "train_data.loc[train_data.scheme_management == 'None', 'scheme_management'] = 'Other'"
   ]
  },
  {
   "cell_type": "code",
   "execution_count": null,
   "metadata": {},
   "outputs": [],
   "source": [
    "# scheme_name NAs\n",
    "train_data.scheme_name.nunique()"
   ]
  },
  {
   "cell_type": "code",
   "execution_count": null,
   "metadata": {},
   "outputs": [],
   "source": [
    "train_data.scheme_name.isna().sum()"
   ]
  },
  {
   "cell_type": "code",
   "execution_count": null,
   "metadata": {},
   "outputs": [],
   "source": [
    "def impute_scheme_name(row):\n",
    "    if row.scheme_name == 0:\n",
    "        ward = row.ward\n",
    "        df = train_data[train_data.ward == ward]\n",
    "        try:\n",
    "            m = df.scheme_name.unique()[1]\n",
    "            return(m)\n",
    "        except:\n",
    "            return (train_data.loc[train_data.scheme_name != 0, 'scheme_name'].mode().values[0])\n",
    "    else:\n",
    "        return (row.scheme_name)"
   ]
  },
  {
   "cell_type": "code",
   "execution_count": null,
   "metadata": {},
   "outputs": [],
   "source": [
    "train_data.loc[train_data.scheme_name.isna(), 'scheme_name'] = train_data.scheme_name.mode().values[0]"
   ]
  },
  {
   "cell_type": "code",
   "execution_count": null,
   "metadata": {},
   "outputs": [],
   "source": [
    "# Permit NAs\n",
    "train_data.permit.value_counts()"
   ]
  },
  {
   "cell_type": "code",
   "execution_count": null,
   "metadata": {},
   "outputs": [],
   "source": [
    "# replace with mode\n",
    "train_data.loc[train_data.permit.isna(), 'permit'] = train_data.permit.mode().values[0]"
   ]
  },
  {
   "cell_type": "code",
   "execution_count": null,
   "metadata": {},
   "outputs": [],
   "source": [
    "train_data.shape"
   ]
  },
  {
   "cell_type": "markdown",
   "metadata": {},
   "source": [
    "#### Missing values - Test Data"
   ]
  },
  {
   "cell_type": "code",
   "execution_count": null,
   "metadata": {},
   "outputs": [],
   "source": [
    "test_data.isna().sum()"
   ]
  },
  {
   "cell_type": "code",
   "execution_count": null,
   "metadata": {},
   "outputs": [],
   "source": [
    "# handle funder, installer, public_meeting,scheme_management, permit cols"
   ]
  },
  {
   "cell_type": "code",
   "execution_count": null,
   "metadata": {},
   "outputs": [],
   "source": [
    "# handling NAs for funder\n",
    "# replace with mode\n",
    "test_data.loc[test_data.funder.isna(), 'funder'] = test_data.funder.mode().values[0]"
   ]
  },
  {
   "cell_type": "code",
   "execution_count": null,
   "metadata": {},
   "outputs": [],
   "source": [
    "# Installer NAs\n",
    "# replace with mode\n",
    "test_data.loc[test_data.installer.isna(), 'installer'] = test_data.installer.mode().values[0]"
   ]
  },
  {
   "cell_type": "code",
   "execution_count": null,
   "metadata": {},
   "outputs": [],
   "source": [
    "# replace with mode\n",
    "test_data.loc[test_data.subvillage.isna(), 'subvillage'] = test_data.subvillage.mode().values[0]"
   ]
  },
  {
   "cell_type": "code",
   "execution_count": null,
   "metadata": {},
   "outputs": [],
   "source": [
    "# public meeting NAs\n",
    "test_data.public_meeting.value_counts()"
   ]
  },
  {
   "cell_type": "code",
   "execution_count": null,
   "metadata": {},
   "outputs": [],
   "source": [
    "# replace with mode\n",
    "test_data.loc[test_data.public_meeting.isna(), 'public_meeting'] = test_data.public_meeting.mode().values[0]"
   ]
  },
  {
   "cell_type": "code",
   "execution_count": null,
   "metadata": {},
   "outputs": [],
   "source": [
    "# scheme_name NAs\n",
    "# replace with mode\n",
    "test_data.loc[test_data.scheme_name.isna(), 'scheme_name'] = test_data.scheme_name.mode().values[0]"
   ]
  },
  {
   "cell_type": "code",
   "execution_count": null,
   "metadata": {},
   "outputs": [],
   "source": [
    "test_data.isna().sum()"
   ]
  },
  {
   "cell_type": "code",
   "execution_count": null,
   "metadata": {},
   "outputs": [],
   "source": [
    "# scheme_management NAs\n",
    "test_data.scheme_management.value_counts()"
   ]
  },
  {
   "cell_type": "code",
   "execution_count": null,
   "metadata": {},
   "outputs": [],
   "source": [
    "# replace with mode\n",
    "test_data.loc[test_data.scheme_management.isna(), \n",
    "               'scheme_management'] = test_data.scheme_management.mode().values[0]"
   ]
  },
  {
   "cell_type": "code",
   "execution_count": null,
   "metadata": {},
   "outputs": [],
   "source": [
    "# replace with mode\n",
    "test_data.loc[test_data.permit.isna(), 'permit'] = test_data.permit.mode().values[0]"
   ]
  },
  {
   "cell_type": "markdown",
   "metadata": {},
   "source": [
    "### More cleaning and EDA"
   ]
  },
  {
   "cell_type": "code",
   "execution_count": null,
   "metadata": {},
   "outputs": [],
   "source": [
    "train_data.head(50)"
   ]
  },
  {
   "cell_type": "code",
   "execution_count": null,
   "metadata": {},
   "outputs": [],
   "source": [
    "# amount_tsh column\n",
    "# how many records are zeros?\n",
    "train_data[train_data.amount_tsh==0.00].shape[0]"
   ]
  },
  {
   "cell_type": "code",
   "execution_count": null,
   "metadata": {},
   "outputs": [],
   "source": [
    "# date recorded -- ensure it's date format\n",
    "train_data.date_recorded = pd.to_datetime(train_data.date_recorded)\n",
    "test_data.date_recorded = pd.to_datetime(test_data.date_recorded)"
   ]
  },
  {
   "cell_type": "code",
   "execution_count": null,
   "metadata": {},
   "outputs": [],
   "source": [
    "# gps_height column\n",
    "# how many records are zeros or neg?\n",
    "train_data[train_data.gps_height<1].shape[0]"
   ]
  },
  {
   "cell_type": "code",
   "execution_count": null,
   "metadata": {},
   "outputs": [],
   "source": [
    "def impute_gps_height(row):\n",
    "    if row.gps_height <= 0:\n",
    "        basin = row.basin\n",
    "        return (train_data.loc[(train_data.basin==basin)&(train_data.gps_height >0), 'gps_height'].median())\n",
    "    else:\n",
    "        return(row.gps_height)"
   ]
  },
  {
   "cell_type": "code",
   "execution_count": null,
   "metadata": {},
   "outputs": [],
   "source": [
    "# use median imputation\n",
    "train_data.loc[train_data.gps_height < 1, 'gps_height'] = train_data.loc[train_data.gps_height > 0,\n",
    "                                                                         'gps_height'].median()\n",
    "\n",
    "test_data.loc[test_data.gps_height < 1, 'gps_height'] = test_data.loc[test_data.gps_height > 0,\n",
    "                                                                         'gps_height'].median()"
   ]
  },
  {
   "cell_type": "code",
   "execution_count": null,
   "metadata": {},
   "outputs": [],
   "source": [
    "# installer column\n",
    "x = train_data.installer.value_counts().to_frame().reset_index()"
   ]
  },
  {
   "cell_type": "code",
   "execution_count": null,
   "metadata": {},
   "outputs": [],
   "source": [
    "top = x['index'][:8]"
   ]
  },
  {
   "cell_type": "code",
   "execution_count": null,
   "metadata": {},
   "outputs": [],
   "source": [
    "# test data\n",
    "x = test_data.installer.value_counts().to_frame().reset_index()\n",
    "top = x['index'][:8]"
   ]
  },
  {
   "cell_type": "code",
   "execution_count": null,
   "metadata": {},
   "outputs": [],
   "source": [
    "# num_private column\n",
    "# how many records are zeros or neg?\n",
    "train_data[train_data.num_private < 1].shape[0]"
   ]
  },
  {
   "cell_type": "code",
   "execution_count": null,
   "metadata": {},
   "outputs": [],
   "source": [
    "# drop the column\n",
    "train_data.drop(columns=['num_private'], inplace=True)\n",
    "test_data.drop(columns=['num_private'], inplace=True)"
   ]
  },
  {
   "cell_type": "code",
   "execution_count": null,
   "metadata": {},
   "outputs": [],
   "source": [
    "# basin column\n",
    "train_data.basin.nunique()"
   ]
  },
  {
   "cell_type": "code",
   "execution_count": null,
   "metadata": {},
   "outputs": [],
   "source": [
    "train_data.basin.value_counts()"
   ]
  },
  {
   "cell_type": "code",
   "execution_count": null,
   "metadata": {},
   "outputs": [],
   "source": [
    "test_data.basin.value_counts()"
   ]
  },
  {
   "cell_type": "code",
   "execution_count": null,
   "metadata": {},
   "outputs": [],
   "source": [
    "# lga column\n",
    "train_data.lga.nunique()"
   ]
  },
  {
   "cell_type": "code",
   "execution_count": null,
   "metadata": {},
   "outputs": [],
   "source": [
    "# ward column\n",
    "train_data.ward.nunique()"
   ]
  },
  {
   "cell_type": "code",
   "execution_count": null,
   "metadata": {},
   "outputs": [],
   "source": [
    "# population column\n",
    "# how many records are zero?\n",
    "train_data[train_data.population == 0].shape[0]"
   ]
  },
  {
   "cell_type": "code",
   "execution_count": null,
   "metadata": {},
   "outputs": [],
   "source": [
    "# mean imputation\n",
    "train_data.loc[train_data.population == 0, 'population'] = train_data.loc[train_data.population != 0, \n",
    "                                                                          'population'].mean()\n",
    "test_data.loc[test_data.population == 0, 'population'] = test_data.loc[test_data.population != 0, \n",
    "                                                                          'population'].mean()"
   ]
  },
  {
   "cell_type": "code",
   "execution_count": null,
   "metadata": {},
   "outputs": [],
   "source": [
    "def pop_imputer(row):\n",
    "    if row.population <= 0:\n",
    "        row_district = row.district_code\n",
    "        impute = train_data.loc[train_data.district_code == row_district, 'population'].mean()\n",
    "        if impute == 0:\n",
    "            return (train_data.loc[train_data.population != 0, 'population'].median())\n",
    "        else:\n",
    "            return (impute)\n",
    "    else:\n",
    "        return (row.population)"
   ]
  },
  {
   "cell_type": "code",
   "execution_count": null,
   "metadata": {},
   "outputs": [],
   "source": [
    "# scheme_management column\n",
    "train_data.scheme_management.value_counts()"
   ]
  },
  {
   "cell_type": "code",
   "execution_count": null,
   "metadata": {},
   "outputs": [],
   "source": [
    "test_data.scheme_management.value_counts()"
   ]
  },
  {
   "cell_type": "code",
   "execution_count": null,
   "metadata": {},
   "outputs": [],
   "source": [
    "# construction_year column\n",
    "# how many zeros?\n",
    "train_data.loc[train_data.construction_year == 0, 'construction_year'].shape[0]"
   ]
  },
  {
   "cell_type": "code",
   "execution_count": null,
   "metadata": {},
   "outputs": [],
   "source": [
    "# use mean imputation\n",
    "train_data.loc[train_data.construction_year == 0, 'construction_year'] = int(train_data.loc[train_data.construction_year != 0, \n",
    "                                                                          'construction_year'].mean())\n",
    "\n",
    "test_data.loc[test_data.construction_year == 0, 'construction_year'] = int(test_data.loc[test_data.construction_year != 0, \n",
    "                                                                          'construction_year'].mean())"
   ]
  },
  {
   "cell_type": "code",
   "execution_count": null,
   "metadata": {
    "scrolled": true
   },
   "outputs": [],
   "source": [
    "# extraction_type column\n",
    "x = train_data.extraction_type.value_counts().to_frame().reset_index()"
   ]
  },
  {
   "cell_type": "code",
   "execution_count": null,
   "metadata": {},
   "outputs": [],
   "source": [
    "top = x['index'][:9]"
   ]
  },
  {
   "cell_type": "code",
   "execution_count": null,
   "metadata": {},
   "outputs": [],
   "source": [
    "# management column\n",
    "x = train_data.management.value_counts().to_frame().reset_index()\n",
    "top = x['index'][:6]"
   ]
  },
  {
   "cell_type": "code",
   "execution_count": null,
   "metadata": {},
   "outputs": [],
   "source": [
    "# management_group column\n",
    "train_data.management_group.value_counts()"
   ]
  },
  {
   "cell_type": "code",
   "execution_count": null,
   "metadata": {},
   "outputs": [],
   "source": [
    "# drop this column, management is informative enough\n",
    "train_data.drop(columns=['management_group'], inplace=True)\n",
    "test_data.drop(columns=['management_group'], inplace=True)"
   ]
  },
  {
   "cell_type": "code",
   "execution_count": null,
   "metadata": {},
   "outputs": [],
   "source": [
    "# payment_type column\n",
    "train_data.payment_type.value_counts()"
   ]
  },
  {
   "cell_type": "code",
   "execution_count": null,
   "metadata": {},
   "outputs": [],
   "source": [
    "# water quality column\n",
    "train_data.water_quality.value_counts()"
   ]
  },
  {
   "cell_type": "code",
   "execution_count": null,
   "metadata": {},
   "outputs": [],
   "source": [
    "# quantity column\n",
    "train_data.quantity.value_counts()"
   ]
  },
  {
   "cell_type": "code",
   "execution_count": null,
   "metadata": {},
   "outputs": [],
   "source": [
    "# source column\n",
    "train_data.source.value_counts()"
   ]
  },
  {
   "cell_type": "code",
   "execution_count": null,
   "metadata": {},
   "outputs": [],
   "source": [
    "# source class column\n",
    "train_data.source_class.value_counts()"
   ]
  },
  {
   "cell_type": "code",
   "execution_count": null,
   "metadata": {},
   "outputs": [],
   "source": [
    "# waterpoint_type column\n",
    "train_data.waterpoint_type.value_counts()"
   ]
  },
  {
   "cell_type": "code",
   "execution_count": null,
   "metadata": {},
   "outputs": [],
   "source": [
    "train_data.shape"
   ]
  },
  {
   "cell_type": "code",
   "execution_count": null,
   "metadata": {},
   "outputs": [],
   "source": [
    "test_data.shape"
   ]
  },
  {
   "cell_type": "code",
   "execution_count": null,
   "metadata": {
    "scrolled": true
   },
   "outputs": [],
   "source": [
    "train_data.head()"
   ]
  },
  {
   "cell_type": "markdown",
   "metadata": {},
   "source": [
    "### Feature engineering"
   ]
  },
  {
   "cell_type": "code",
   "execution_count": null,
   "metadata": {},
   "outputs": [],
   "source": [
    "# convert date_recorded to record_age\n",
    "today = dt.datetime.today()\n",
    "today"
   ]
  },
  {
   "cell_type": "code",
   "execution_count": null,
   "metadata": {},
   "outputs": [],
   "source": [
    "train_data['record_age'] = train_data['date_recorded'].apply(lambda row: (today -  row).days)\n",
    "test_data['record_age'] = test_data['date_recorded'].apply(lambda row: (today -  row).days)"
   ]
  },
  {
   "cell_type": "code",
   "execution_count": null,
   "metadata": {},
   "outputs": [],
   "source": [
    "# we can drop date_recorded\n",
    "train_data.drop(columns = ['date_recorded'], inplace=True)\n",
    "test_data.drop(columns = ['date_recorded'], inplace=True)"
   ]
  },
  {
   "cell_type": "code",
   "execution_count": null,
   "metadata": {},
   "outputs": [],
   "source": [
    "# train_data.funder.value_counts()"
   ]
  },
  {
   "cell_type": "code",
   "execution_count": null,
   "metadata": {},
   "outputs": [],
   "source": [
    "# permit and public_meeting booleans converted to strings\n",
    "train_data.permit = train_data.permit.astype('category')\n",
    "train_data.public_meeting = train_data.public_meeting.astype('category')\n",
    "\n",
    "test_data.permit = test_data.permit.astype('category')\n",
    "test_data.public_meeting = test_data.public_meeting.astype('category')"
   ]
  },
  {
   "cell_type": "code",
   "execution_count": null,
   "metadata": {},
   "outputs": [],
   "source": [
    "x_train = train_data.loc[:, ~train_data.columns.isin(['status_group'])]\n",
    "y_train = train_data.status_group"
   ]
  },
  {
   "cell_type": "code",
   "execution_count": 86,
   "metadata": {
    "scrolled": true
   },
   "outputs": [
    {
     "name": "stdout",
     "output_type": "stream",
     "text": [
      "<class 'pandas.core.series.Series'>\n",
      "RangeIndex: 59400 entries, 0 to 59399\n",
      "Series name: c_na\n",
      "Non-Null Count  Dtype\n",
      "--------------  -----\n",
      "59400 non-null  bool \n",
      "dtypes: bool(1)\n",
      "memory usage: 58.1 KB\n"
     ]
    }
   ],
   "source": []
  },
  {
   "cell_type": "code",
   "execution_count": null,
   "metadata": {},
   "outputs": [],
   "source": [
    "# add amount_tsh per pop as new feature\n",
    "x_train['tsh_per_head'] = x_train['amount_tsh'] / x_train['population']\n",
    "test_data['tsh_per_head'] = test_data['amount_tsh'] / test_data['population']"
   ]
  },
  {
   "cell_type": "code",
   "execution_count": null,
   "metadata": {},
   "outputs": [],
   "source": [
    "x_train.to_csv(r\"Train_data_final.csv\", index=False)"
   ]
  },
  {
   "cell_type": "code",
   "execution_count": null,
   "metadata": {},
   "outputs": [],
   "source": [
    "test_data.to_csv(r\"Test_data_final.csv\", index=False)"
   ]
  },
  {
   "cell_type": "code",
   "execution_count": 78,
   "metadata": {},
   "outputs": [],
   "source": [
    "x_train = pd.read_csv(\"Train_data_final_1.csv\")"
   ]
  },
  {
   "cell_type": "code",
   "execution_count": 79,
   "metadata": {},
   "outputs": [],
   "source": [
    "test_data = pd.read_csv(\"Test_data_final_1.csv\")"
   ]
  },
  {
   "cell_type": "code",
   "execution_count": 80,
   "metadata": {},
   "outputs": [],
   "source": [
    "y_train_2 = pd.read_csv('MMA 869/Training labels.csv')"
   ]
  },
  {
   "cell_type": "code",
   "execution_count": 81,
   "metadata": {},
   "outputs": [],
   "source": [
    "y_train = y_train_2['status_group']"
   ]
  },
  {
   "cell_type": "code",
   "execution_count": 82,
   "metadata": {},
   "outputs": [],
   "source": [
    "# categorical features\n",
    "s = (x_train.dtypes == 'object')\n",
    "cat_cols = list(s[s].index)"
   ]
  },
  {
   "cell_type": "code",
   "execution_count": 83,
   "metadata": {},
   "outputs": [
    {
     "data": {
      "text/plain": [
       "['funder',\n",
       " 'installer',\n",
       " 'basin',\n",
       " 'subvillage',\n",
       " 'lga',\n",
       " 'ward',\n",
       " 'scheme_management',\n",
       " 'scheme_name',\n",
       " 'extraction_type',\n",
       " 'management',\n",
       " 'payment_type',\n",
       " 'water_quality',\n",
       " 'quantity',\n",
       " 'source',\n",
       " 'source_class',\n",
       " 'waterpoint_type']"
      ]
     },
     "execution_count": 83,
     "metadata": {},
     "output_type": "execute_result"
    }
   ],
   "source": [
    "cat_cols"
   ]
  },
  {
   "cell_type": "code",
   "execution_count": 84,
   "metadata": {},
   "outputs": [],
   "source": [
    "one_hot_cols = ['basin', 'scheme_management','extraction_type','management','payment_type','water_quality','quantity',\n",
    "               'source','source_class','waterpoint_type']\n",
    "cat_cols = list(set(cat_cols).difference(one_hot_cols))"
   ]
  },
  {
   "cell_type": "code",
   "execution_count": 62,
   "metadata": {},
   "outputs": [],
   "source": [
    "# numerical features\n",
    "s = (x_train.dtypes != 'object')\n",
    "num_cols = list(s[s].index)"
   ]
  },
  {
   "cell_type": "code",
   "execution_count": 63,
   "metadata": {},
   "outputs": [
    {
     "data": {
      "text/plain": [
       "['amount_tsh',\n",
       " 'gps_height',\n",
       " 'longitude',\n",
       " 'latitude',\n",
       " 'region_code',\n",
       " 'district_code',\n",
       " 'population',\n",
       " 'construction_year',\n",
       " 'record_age',\n",
       " 'tsh_per_head',\n",
       " 'c_na']"
      ]
     },
     "execution_count": 63,
     "metadata": {},
     "output_type": "execute_result"
    }
   ],
   "source": [
    "# remove id, longitude, latitude\n",
    "to_remove = ['id','public_meeting', 'permit']\n",
    "for j in to_remove:\n",
    "    num_cols.remove(j)\n",
    "num_cols"
   ]
  },
  {
   "cell_type": "code",
   "execution_count": 64,
   "metadata": {},
   "outputs": [
    {
     "data": {
      "text/plain": [
       "enough          33186\n",
       "insufficient    15129\n",
       "dry              6246\n",
       "seasonal         4050\n",
       "unknown           789\n",
       "Name: quantity, dtype: int64"
      ]
     },
     "execution_count": 64,
     "metadata": {},
     "output_type": "execute_result"
    }
   ],
   "source": [
    "x_train.quantity.value_counts()"
   ]
  },
  {
   "cell_type": "code",
   "execution_count": 65,
   "metadata": {},
   "outputs": [],
   "source": [
    "# quantity is ordinal, remove it from cat_cols\n",
    "ord_cols = ['quantity']\n",
    "one_hot_cols.remove('quantity')"
   ]
  },
  {
   "cell_type": "code",
   "execution_count": 66,
   "metadata": {},
   "outputs": [],
   "source": [
    "# create mapping for quantity column\n",
    "mapper = {'unknown':0, 'dry':1, 'seasonal':2, 'insufficient':3, 'enough':4}"
   ]
  },
  {
   "cell_type": "code",
   "execution_count": 67,
   "metadata": {},
   "outputs": [],
   "source": [
    "x_train['quantity'] = x_train['quantity'].replace(mapper)\n",
    "test_data['quantity'] = test_data['quantity'].replace(mapper)"
   ]
  },
  {
   "cell_type": "code",
   "execution_count": 37,
   "metadata": {},
   "outputs": [],
   "source": []
  },
  {
   "cell_type": "code",
   "execution_count": 68,
   "metadata": {},
   "outputs": [],
   "source": [
    "# encode one_hot_cols with OnehotEncoder\n",
    "from sklearn.preprocessing import OneHotEncoder\n",
    "oneHotEnc = OneHotEncoder(handle_unknown='ignore', sparse=False)"
   ]
  },
  {
   "cell_type": "code",
   "execution_count": 69,
   "metadata": {},
   "outputs": [
    {
     "name": "stderr",
     "output_type": "stream",
     "text": [
      "D:\\MMA\\ANACONDA\\lib\\site-packages\\sklearn\\utils\\deprecation.py:87: FutureWarning: Function get_feature_names is deprecated; get_feature_names is deprecated in 1.0 and will be removed in 1.2. Please use get_feature_names_out instead.\n",
      "  warnings.warn(msg, category=FutureWarning)\n",
      "D:\\MMA\\ANACONDA\\lib\\site-packages\\sklearn\\utils\\deprecation.py:87: FutureWarning: Function get_feature_names is deprecated; get_feature_names is deprecated in 1.0 and will be removed in 1.2. Please use get_feature_names_out instead.\n",
      "  warnings.warn(msg, category=FutureWarning)\n"
     ]
    }
   ],
   "source": [
    "fit = oneHotEnc.fit_transform(x_train[one_hot_cols])\n",
    "x_train_oneH = pd.DataFrame(fit, columns=oneHotEnc.get_feature_names())\n",
    "fit_ = oneHotEnc.transform(test_data[one_hot_cols])\n",
    "test_data_oneH = pd.DataFrame(fit_, columns=oneHotEnc.get_feature_names())"
   ]
  },
  {
   "cell_type": "code",
   "execution_count": null,
   "metadata": {},
   "outputs": [],
   "source": []
  },
  {
   "cell_type": "code",
   "execution_count": 70,
   "metadata": {},
   "outputs": [],
   "source": [
    "# Trying Label encoding\n",
    "from sklearn.preprocessing import LabelEncoder"
   ]
  },
  {
   "cell_type": "code",
   "execution_count": 71,
   "metadata": {},
   "outputs": [],
   "source": [
    "encoder = LabelEncoder()"
   ]
  },
  {
   "cell_type": "code",
   "execution_count": 89,
   "metadata": {},
   "outputs": [
    {
     "ename": "ValueError",
     "evalue": "invalid literal for int() with base 10: 'functional'",
     "output_type": "error",
     "traceback": [
      "\u001b[1;31m---------------------------------------------------------------------------\u001b[0m",
      "\u001b[1;31mValueError\u001b[0m                                Traceback (most recent call last)",
      "Input \u001b[1;32mIn [89]\u001b[0m, in \u001b[0;36m<cell line: 1>\u001b[1;34m()\u001b[0m\n\u001b[1;32m----> 1\u001b[0m \u001b[43mpd\u001b[49m\u001b[38;5;241;43m.\u001b[39;49m\u001b[43mDataFrame\u001b[49m\u001b[43m(\u001b[49m\u001b[43mdata\u001b[49m\u001b[38;5;241;43m=\u001b[39;49m\u001b[43my_train\u001b[49m\u001b[43m,\u001b[49m\u001b[43mcolumns\u001b[49m\u001b[38;5;241;43m=\u001b[39;49m\u001b[43m[\u001b[49m\u001b[38;5;124;43m'\u001b[39;49m\u001b[38;5;124;43mstatus_group\u001b[39;49m\u001b[38;5;124;43m'\u001b[39;49m\u001b[43m]\u001b[49m\u001b[43m,\u001b[49m\u001b[43mdtype\u001b[49m\u001b[38;5;241;43m=\u001b[39;49m\u001b[43mnp\u001b[49m\u001b[38;5;241;43m.\u001b[39;49m\u001b[43mint8\u001b[49m\u001b[43m)\u001b[49m\n",
      "File \u001b[1;32mD:\\MMA\\ANACONDA\\lib\\site-packages\\pandas\\core\\frame.py:684\u001b[0m, in \u001b[0;36mDataFrame.__init__\u001b[1;34m(self, data, index, columns, dtype, copy)\u001b[0m\n\u001b[0;32m    674\u001b[0m     mgr \u001b[38;5;241m=\u001b[39m rec_array_to_mgr(\n\u001b[0;32m    675\u001b[0m         data,\n\u001b[0;32m    676\u001b[0m         index,\n\u001b[1;32m   (...)\u001b[0m\n\u001b[0;32m    680\u001b[0m         typ\u001b[38;5;241m=\u001b[39mmanager,\n\u001b[0;32m    681\u001b[0m     )\n\u001b[0;32m    682\u001b[0m \u001b[38;5;28;01melif\u001b[39;00m \u001b[38;5;28mgetattr\u001b[39m(data, \u001b[38;5;124m\"\u001b[39m\u001b[38;5;124mname\u001b[39m\u001b[38;5;124m\"\u001b[39m, \u001b[38;5;28;01mNone\u001b[39;00m) \u001b[38;5;129;01mis\u001b[39;00m \u001b[38;5;129;01mnot\u001b[39;00m \u001b[38;5;28;01mNone\u001b[39;00m:\n\u001b[0;32m    683\u001b[0m     \u001b[38;5;66;03m# i.e. Series/Index with non-None name\u001b[39;00m\n\u001b[1;32m--> 684\u001b[0m     mgr \u001b[38;5;241m=\u001b[39m \u001b[43mdict_to_mgr\u001b[49m\u001b[43m(\u001b[49m\n\u001b[0;32m    685\u001b[0m \u001b[43m        \u001b[49m\u001b[38;5;66;43;03m# error: Item \"ndarray\" of \"Union[ndarray, Series, Index]\" has no\u001b[39;49;00m\n\u001b[0;32m    686\u001b[0m \u001b[43m        \u001b[49m\u001b[38;5;66;43;03m# attribute \"name\"\u001b[39;49;00m\n\u001b[0;32m    687\u001b[0m \u001b[43m        \u001b[49m\u001b[43m{\u001b[49m\u001b[43mdata\u001b[49m\u001b[38;5;241;43m.\u001b[39;49m\u001b[43mname\u001b[49m\u001b[43m:\u001b[49m\u001b[43m \u001b[49m\u001b[43mdata\u001b[49m\u001b[43m}\u001b[49m\u001b[43m,\u001b[49m\u001b[43m  \u001b[49m\u001b[38;5;66;43;03m# type: ignore[union-attr]\u001b[39;49;00m\n\u001b[0;32m    688\u001b[0m \u001b[43m        \u001b[49m\u001b[43mindex\u001b[49m\u001b[43m,\u001b[49m\n\u001b[0;32m    689\u001b[0m \u001b[43m        \u001b[49m\u001b[43mcolumns\u001b[49m\u001b[43m,\u001b[49m\n\u001b[0;32m    690\u001b[0m \u001b[43m        \u001b[49m\u001b[43mdtype\u001b[49m\u001b[38;5;241;43m=\u001b[39;49m\u001b[43mdtype\u001b[49m\u001b[43m,\u001b[49m\n\u001b[0;32m    691\u001b[0m \u001b[43m        \u001b[49m\u001b[43mtyp\u001b[49m\u001b[38;5;241;43m=\u001b[39;49m\u001b[43mmanager\u001b[49m\u001b[43m,\u001b[49m\n\u001b[0;32m    692\u001b[0m \u001b[43m    \u001b[49m\u001b[43m)\u001b[49m\n\u001b[0;32m    693\u001b[0m \u001b[38;5;28;01melse\u001b[39;00m:\n\u001b[0;32m    694\u001b[0m     mgr \u001b[38;5;241m=\u001b[39m ndarray_to_mgr(\n\u001b[0;32m    695\u001b[0m         data,\n\u001b[0;32m    696\u001b[0m         index,\n\u001b[1;32m   (...)\u001b[0m\n\u001b[0;32m    700\u001b[0m         typ\u001b[38;5;241m=\u001b[39mmanager,\n\u001b[0;32m    701\u001b[0m     )\n",
      "File \u001b[1;32mD:\\MMA\\ANACONDA\\lib\\site-packages\\pandas\\core\\internals\\construction.py:502\u001b[0m, in \u001b[0;36mdict_to_mgr\u001b[1;34m(data, index, columns, dtype, typ, copy)\u001b[0m\n\u001b[0;32m    494\u001b[0m     arrays \u001b[38;5;241m=\u001b[39m [\n\u001b[0;32m    495\u001b[0m         x\n\u001b[0;32m    496\u001b[0m         \u001b[38;5;28;01mif\u001b[39;00m \u001b[38;5;129;01mnot\u001b[39;00m \u001b[38;5;28mhasattr\u001b[39m(x, \u001b[38;5;124m\"\u001b[39m\u001b[38;5;124mdtype\u001b[39m\u001b[38;5;124m\"\u001b[39m) \u001b[38;5;129;01mor\u001b[39;00m \u001b[38;5;129;01mnot\u001b[39;00m \u001b[38;5;28misinstance\u001b[39m(x\u001b[38;5;241m.\u001b[39mdtype, ExtensionDtype)\n\u001b[0;32m    497\u001b[0m         \u001b[38;5;28;01melse\u001b[39;00m x\u001b[38;5;241m.\u001b[39mcopy()\n\u001b[0;32m    498\u001b[0m         \u001b[38;5;28;01mfor\u001b[39;00m x \u001b[38;5;129;01min\u001b[39;00m arrays\n\u001b[0;32m    499\u001b[0m     ]\n\u001b[0;32m    500\u001b[0m     \u001b[38;5;66;03m# TODO: can we get rid of the dt64tz special case above?\u001b[39;00m\n\u001b[1;32m--> 502\u001b[0m \u001b[38;5;28;01mreturn\u001b[39;00m \u001b[43marrays_to_mgr\u001b[49m\u001b[43m(\u001b[49m\u001b[43marrays\u001b[49m\u001b[43m,\u001b[49m\u001b[43m \u001b[49m\u001b[43mcolumns\u001b[49m\u001b[43m,\u001b[49m\u001b[43m \u001b[49m\u001b[43mindex\u001b[49m\u001b[43m,\u001b[49m\u001b[43m \u001b[49m\u001b[43mdtype\u001b[49m\u001b[38;5;241;43m=\u001b[39;49m\u001b[43mdtype\u001b[49m\u001b[43m,\u001b[49m\u001b[43m \u001b[49m\u001b[43mtyp\u001b[49m\u001b[38;5;241;43m=\u001b[39;49m\u001b[43mtyp\u001b[49m\u001b[43m,\u001b[49m\u001b[43m \u001b[49m\u001b[43mconsolidate\u001b[49m\u001b[38;5;241;43m=\u001b[39;49m\u001b[43mcopy\u001b[49m\u001b[43m)\u001b[49m\n",
      "File \u001b[1;32mD:\\MMA\\ANACONDA\\lib\\site-packages\\pandas\\core\\internals\\construction.py:125\u001b[0m, in \u001b[0;36marrays_to_mgr\u001b[1;34m(arrays, columns, index, dtype, verify_integrity, typ, consolidate)\u001b[0m\n\u001b[0;32m    122\u001b[0m         index \u001b[38;5;241m=\u001b[39m ensure_index(index)\n\u001b[0;32m    124\u001b[0m     \u001b[38;5;66;03m# don't force copy because getting jammed in an ndarray anyway\u001b[39;00m\n\u001b[1;32m--> 125\u001b[0m     arrays \u001b[38;5;241m=\u001b[39m \u001b[43m_homogenize\u001b[49m\u001b[43m(\u001b[49m\u001b[43marrays\u001b[49m\u001b[43m,\u001b[49m\u001b[43m \u001b[49m\u001b[43mindex\u001b[49m\u001b[43m,\u001b[49m\u001b[43m \u001b[49m\u001b[43mdtype\u001b[49m\u001b[43m)\u001b[49m\n\u001b[0;32m    126\u001b[0m     \u001b[38;5;66;03m# _homogenize ensures\u001b[39;00m\n\u001b[0;32m    127\u001b[0m     \u001b[38;5;66;03m#  - all(len(x) == len(index) for x in arrays)\u001b[39;00m\n\u001b[0;32m    128\u001b[0m     \u001b[38;5;66;03m#  - all(x.ndim == 1 for x in arrays)\u001b[39;00m\n\u001b[1;32m   (...)\u001b[0m\n\u001b[0;32m    131\u001b[0m \n\u001b[0;32m    132\u001b[0m \u001b[38;5;28;01melse\u001b[39;00m:\n\u001b[0;32m    133\u001b[0m     index \u001b[38;5;241m=\u001b[39m ensure_index(index)\n",
      "File \u001b[1;32mD:\\MMA\\ANACONDA\\lib\\site-packages\\pandas\\core\\internals\\construction.py:603\u001b[0m, in \u001b[0;36m_homogenize\u001b[1;34m(data, index, dtype)\u001b[0m\n\u001b[0;32m    601\u001b[0m \u001b[38;5;28;01mif\u001b[39;00m \u001b[38;5;28misinstance\u001b[39m(val, ABCSeries):\n\u001b[0;32m    602\u001b[0m     \u001b[38;5;28;01mif\u001b[39;00m dtype \u001b[38;5;129;01mis\u001b[39;00m \u001b[38;5;129;01mnot\u001b[39;00m \u001b[38;5;28;01mNone\u001b[39;00m:\n\u001b[1;32m--> 603\u001b[0m         val \u001b[38;5;241m=\u001b[39m \u001b[43mval\u001b[49m\u001b[38;5;241;43m.\u001b[39;49m\u001b[43mastype\u001b[49m\u001b[43m(\u001b[49m\u001b[43mdtype\u001b[49m\u001b[43m,\u001b[49m\u001b[43m \u001b[49m\u001b[43mcopy\u001b[49m\u001b[38;5;241;43m=\u001b[39;49m\u001b[38;5;28;43;01mFalse\u001b[39;49;00m\u001b[43m)\u001b[49m\n\u001b[0;32m    604\u001b[0m     \u001b[38;5;28;01mif\u001b[39;00m val\u001b[38;5;241m.\u001b[39mindex \u001b[38;5;129;01mis\u001b[39;00m \u001b[38;5;129;01mnot\u001b[39;00m index:\n\u001b[0;32m    605\u001b[0m         \u001b[38;5;66;03m# Forces alignment. No need to copy data since we\u001b[39;00m\n\u001b[0;32m    606\u001b[0m         \u001b[38;5;66;03m# are putting it into an ndarray later\u001b[39;00m\n\u001b[0;32m    607\u001b[0m         val \u001b[38;5;241m=\u001b[39m val\u001b[38;5;241m.\u001b[39mreindex(index, copy\u001b[38;5;241m=\u001b[39m\u001b[38;5;28;01mFalse\u001b[39;00m)\n",
      "File \u001b[1;32mD:\\MMA\\ANACONDA\\lib\\site-packages\\pandas\\core\\generic.py:5912\u001b[0m, in \u001b[0;36mNDFrame.astype\u001b[1;34m(self, dtype, copy, errors)\u001b[0m\n\u001b[0;32m   5905\u001b[0m     results \u001b[38;5;241m=\u001b[39m [\n\u001b[0;32m   5906\u001b[0m         \u001b[38;5;28mself\u001b[39m\u001b[38;5;241m.\u001b[39miloc[:, i]\u001b[38;5;241m.\u001b[39mastype(dtype, copy\u001b[38;5;241m=\u001b[39mcopy)\n\u001b[0;32m   5907\u001b[0m         \u001b[38;5;28;01mfor\u001b[39;00m i \u001b[38;5;129;01min\u001b[39;00m \u001b[38;5;28mrange\u001b[39m(\u001b[38;5;28mlen\u001b[39m(\u001b[38;5;28mself\u001b[39m\u001b[38;5;241m.\u001b[39mcolumns))\n\u001b[0;32m   5908\u001b[0m     ]\n\u001b[0;32m   5910\u001b[0m \u001b[38;5;28;01melse\u001b[39;00m:\n\u001b[0;32m   5911\u001b[0m     \u001b[38;5;66;03m# else, only a single dtype is given\u001b[39;00m\n\u001b[1;32m-> 5912\u001b[0m     new_data \u001b[38;5;241m=\u001b[39m \u001b[38;5;28;43mself\u001b[39;49m\u001b[38;5;241;43m.\u001b[39;49m\u001b[43m_mgr\u001b[49m\u001b[38;5;241;43m.\u001b[39;49m\u001b[43mastype\u001b[49m\u001b[43m(\u001b[49m\u001b[43mdtype\u001b[49m\u001b[38;5;241;43m=\u001b[39;49m\u001b[43mdtype\u001b[49m\u001b[43m,\u001b[49m\u001b[43m \u001b[49m\u001b[43mcopy\u001b[49m\u001b[38;5;241;43m=\u001b[39;49m\u001b[43mcopy\u001b[49m\u001b[43m,\u001b[49m\u001b[43m \u001b[49m\u001b[43merrors\u001b[49m\u001b[38;5;241;43m=\u001b[39;49m\u001b[43merrors\u001b[49m\u001b[43m)\u001b[49m\n\u001b[0;32m   5913\u001b[0m     \u001b[38;5;28;01mreturn\u001b[39;00m \u001b[38;5;28mself\u001b[39m\u001b[38;5;241m.\u001b[39m_constructor(new_data)\u001b[38;5;241m.\u001b[39m__finalize__(\u001b[38;5;28mself\u001b[39m, method\u001b[38;5;241m=\u001b[39m\u001b[38;5;124m\"\u001b[39m\u001b[38;5;124mastype\u001b[39m\u001b[38;5;124m\"\u001b[39m)\n\u001b[0;32m   5915\u001b[0m \u001b[38;5;66;03m# GH 33113: handle empty frame or series\u001b[39;00m\n",
      "File \u001b[1;32mD:\\MMA\\ANACONDA\\lib\\site-packages\\pandas\\core\\internals\\managers.py:419\u001b[0m, in \u001b[0;36mBaseBlockManager.astype\u001b[1;34m(self, dtype, copy, errors)\u001b[0m\n\u001b[0;32m    418\u001b[0m \u001b[38;5;28;01mdef\u001b[39;00m \u001b[38;5;21mastype\u001b[39m(\u001b[38;5;28mself\u001b[39m: T, dtype, copy: \u001b[38;5;28mbool\u001b[39m \u001b[38;5;241m=\u001b[39m \u001b[38;5;28;01mFalse\u001b[39;00m, errors: \u001b[38;5;28mstr\u001b[39m \u001b[38;5;241m=\u001b[39m \u001b[38;5;124m\"\u001b[39m\u001b[38;5;124mraise\u001b[39m\u001b[38;5;124m\"\u001b[39m) \u001b[38;5;241m-\u001b[39m\u001b[38;5;241m>\u001b[39m T:\n\u001b[1;32m--> 419\u001b[0m     \u001b[38;5;28;01mreturn\u001b[39;00m \u001b[38;5;28;43mself\u001b[39;49m\u001b[38;5;241;43m.\u001b[39;49m\u001b[43mapply\u001b[49m\u001b[43m(\u001b[49m\u001b[38;5;124;43m\"\u001b[39;49m\u001b[38;5;124;43mastype\u001b[39;49m\u001b[38;5;124;43m\"\u001b[39;49m\u001b[43m,\u001b[49m\u001b[43m \u001b[49m\u001b[43mdtype\u001b[49m\u001b[38;5;241;43m=\u001b[39;49m\u001b[43mdtype\u001b[49m\u001b[43m,\u001b[49m\u001b[43m \u001b[49m\u001b[43mcopy\u001b[49m\u001b[38;5;241;43m=\u001b[39;49m\u001b[43mcopy\u001b[49m\u001b[43m,\u001b[49m\u001b[43m \u001b[49m\u001b[43merrors\u001b[49m\u001b[38;5;241;43m=\u001b[39;49m\u001b[43merrors\u001b[49m\u001b[43m)\u001b[49m\n",
      "File \u001b[1;32mD:\\MMA\\ANACONDA\\lib\\site-packages\\pandas\\core\\internals\\managers.py:304\u001b[0m, in \u001b[0;36mBaseBlockManager.apply\u001b[1;34m(self, f, align_keys, ignore_failures, **kwargs)\u001b[0m\n\u001b[0;32m    302\u001b[0m         applied \u001b[38;5;241m=\u001b[39m b\u001b[38;5;241m.\u001b[39mapply(f, \u001b[38;5;241m*\u001b[39m\u001b[38;5;241m*\u001b[39mkwargs)\n\u001b[0;32m    303\u001b[0m     \u001b[38;5;28;01melse\u001b[39;00m:\n\u001b[1;32m--> 304\u001b[0m         applied \u001b[38;5;241m=\u001b[39m \u001b[38;5;28mgetattr\u001b[39m(b, f)(\u001b[38;5;241m*\u001b[39m\u001b[38;5;241m*\u001b[39mkwargs)\n\u001b[0;32m    305\u001b[0m \u001b[38;5;28;01mexcept\u001b[39;00m (\u001b[38;5;167;01mTypeError\u001b[39;00m, \u001b[38;5;167;01mNotImplementedError\u001b[39;00m):\n\u001b[0;32m    306\u001b[0m     \u001b[38;5;28;01mif\u001b[39;00m \u001b[38;5;129;01mnot\u001b[39;00m ignore_failures:\n",
      "File \u001b[1;32mD:\\MMA\\ANACONDA\\lib\\site-packages\\pandas\\core\\internals\\blocks.py:580\u001b[0m, in \u001b[0;36mBlock.astype\u001b[1;34m(self, dtype, copy, errors)\u001b[0m\n\u001b[0;32m    562\u001b[0m \u001b[38;5;124;03m\"\"\"\u001b[39;00m\n\u001b[0;32m    563\u001b[0m \u001b[38;5;124;03mCoerce to the new dtype.\u001b[39;00m\n\u001b[0;32m    564\u001b[0m \n\u001b[1;32m   (...)\u001b[0m\n\u001b[0;32m    576\u001b[0m \u001b[38;5;124;03mBlock\u001b[39;00m\n\u001b[0;32m    577\u001b[0m \u001b[38;5;124;03m\"\"\"\u001b[39;00m\n\u001b[0;32m    578\u001b[0m values \u001b[38;5;241m=\u001b[39m \u001b[38;5;28mself\u001b[39m\u001b[38;5;241m.\u001b[39mvalues\n\u001b[1;32m--> 580\u001b[0m new_values \u001b[38;5;241m=\u001b[39m \u001b[43mastype_array_safe\u001b[49m\u001b[43m(\u001b[49m\u001b[43mvalues\u001b[49m\u001b[43m,\u001b[49m\u001b[43m \u001b[49m\u001b[43mdtype\u001b[49m\u001b[43m,\u001b[49m\u001b[43m \u001b[49m\u001b[43mcopy\u001b[49m\u001b[38;5;241;43m=\u001b[39;49m\u001b[43mcopy\u001b[49m\u001b[43m,\u001b[49m\u001b[43m \u001b[49m\u001b[43merrors\u001b[49m\u001b[38;5;241;43m=\u001b[39;49m\u001b[43merrors\u001b[49m\u001b[43m)\u001b[49m\n\u001b[0;32m    582\u001b[0m new_values \u001b[38;5;241m=\u001b[39m maybe_coerce_values(new_values)\n\u001b[0;32m    583\u001b[0m newb \u001b[38;5;241m=\u001b[39m \u001b[38;5;28mself\u001b[39m\u001b[38;5;241m.\u001b[39mmake_block(new_values)\n",
      "File \u001b[1;32mD:\\MMA\\ANACONDA\\lib\\site-packages\\pandas\\core\\dtypes\\cast.py:1292\u001b[0m, in \u001b[0;36mastype_array_safe\u001b[1;34m(values, dtype, copy, errors)\u001b[0m\n\u001b[0;32m   1289\u001b[0m     dtype \u001b[38;5;241m=\u001b[39m dtype\u001b[38;5;241m.\u001b[39mnumpy_dtype\n\u001b[0;32m   1291\u001b[0m \u001b[38;5;28;01mtry\u001b[39;00m:\n\u001b[1;32m-> 1292\u001b[0m     new_values \u001b[38;5;241m=\u001b[39m \u001b[43mastype_array\u001b[49m\u001b[43m(\u001b[49m\u001b[43mvalues\u001b[49m\u001b[43m,\u001b[49m\u001b[43m \u001b[49m\u001b[43mdtype\u001b[49m\u001b[43m,\u001b[49m\u001b[43m \u001b[49m\u001b[43mcopy\u001b[49m\u001b[38;5;241;43m=\u001b[39;49m\u001b[43mcopy\u001b[49m\u001b[43m)\u001b[49m\n\u001b[0;32m   1293\u001b[0m \u001b[38;5;28;01mexcept\u001b[39;00m (\u001b[38;5;167;01mValueError\u001b[39;00m, \u001b[38;5;167;01mTypeError\u001b[39;00m):\n\u001b[0;32m   1294\u001b[0m     \u001b[38;5;66;03m# e.g. astype_nansafe can fail on object-dtype of strings\u001b[39;00m\n\u001b[0;32m   1295\u001b[0m     \u001b[38;5;66;03m#  trying to convert to float\u001b[39;00m\n\u001b[0;32m   1296\u001b[0m     \u001b[38;5;28;01mif\u001b[39;00m errors \u001b[38;5;241m==\u001b[39m \u001b[38;5;124m\"\u001b[39m\u001b[38;5;124mignore\u001b[39m\u001b[38;5;124m\"\u001b[39m:\n",
      "File \u001b[1;32mD:\\MMA\\ANACONDA\\lib\\site-packages\\pandas\\core\\dtypes\\cast.py:1237\u001b[0m, in \u001b[0;36mastype_array\u001b[1;34m(values, dtype, copy)\u001b[0m\n\u001b[0;32m   1234\u001b[0m     values \u001b[38;5;241m=\u001b[39m values\u001b[38;5;241m.\u001b[39mastype(dtype, copy\u001b[38;5;241m=\u001b[39mcopy)\n\u001b[0;32m   1236\u001b[0m \u001b[38;5;28;01melse\u001b[39;00m:\n\u001b[1;32m-> 1237\u001b[0m     values \u001b[38;5;241m=\u001b[39m \u001b[43mastype_nansafe\u001b[49m\u001b[43m(\u001b[49m\u001b[43mvalues\u001b[49m\u001b[43m,\u001b[49m\u001b[43m \u001b[49m\u001b[43mdtype\u001b[49m\u001b[43m,\u001b[49m\u001b[43m \u001b[49m\u001b[43mcopy\u001b[49m\u001b[38;5;241;43m=\u001b[39;49m\u001b[43mcopy\u001b[49m\u001b[43m)\u001b[49m\n\u001b[0;32m   1239\u001b[0m \u001b[38;5;66;03m# in pandas we don't store numpy str dtypes, so convert to object\u001b[39;00m\n\u001b[0;32m   1240\u001b[0m \u001b[38;5;28;01mif\u001b[39;00m \u001b[38;5;28misinstance\u001b[39m(dtype, np\u001b[38;5;241m.\u001b[39mdtype) \u001b[38;5;129;01mand\u001b[39;00m \u001b[38;5;28missubclass\u001b[39m(values\u001b[38;5;241m.\u001b[39mdtype\u001b[38;5;241m.\u001b[39mtype, \u001b[38;5;28mstr\u001b[39m):\n",
      "File \u001b[1;32mD:\\MMA\\ANACONDA\\lib\\site-packages\\pandas\\core\\dtypes\\cast.py:1154\u001b[0m, in \u001b[0;36mastype_nansafe\u001b[1;34m(arr, dtype, copy, skipna)\u001b[0m\n\u001b[0;32m   1150\u001b[0m \u001b[38;5;28;01melif\u001b[39;00m is_object_dtype(arr\u001b[38;5;241m.\u001b[39mdtype):\n\u001b[0;32m   1151\u001b[0m \n\u001b[0;32m   1152\u001b[0m     \u001b[38;5;66;03m# work around NumPy brokenness, #1987\u001b[39;00m\n\u001b[0;32m   1153\u001b[0m     \u001b[38;5;28;01mif\u001b[39;00m np\u001b[38;5;241m.\u001b[39missubdtype(dtype\u001b[38;5;241m.\u001b[39mtype, np\u001b[38;5;241m.\u001b[39minteger):\n\u001b[1;32m-> 1154\u001b[0m         \u001b[38;5;28;01mreturn\u001b[39;00m \u001b[43mlib\u001b[49m\u001b[38;5;241;43m.\u001b[39;49m\u001b[43mastype_intsafe\u001b[49m\u001b[43m(\u001b[49m\u001b[43marr\u001b[49m\u001b[43m,\u001b[49m\u001b[43m \u001b[49m\u001b[43mdtype\u001b[49m\u001b[43m)\u001b[49m\n\u001b[0;32m   1156\u001b[0m     \u001b[38;5;66;03m# if we have a datetime/timedelta array of objects\u001b[39;00m\n\u001b[0;32m   1157\u001b[0m     \u001b[38;5;66;03m# then coerce to a proper dtype and recall astype_nansafe\u001b[39;00m\n\u001b[0;32m   1159\u001b[0m     \u001b[38;5;28;01melif\u001b[39;00m is_datetime64_dtype(dtype):\n",
      "File \u001b[1;32mD:\\MMA\\ANACONDA\\lib\\site-packages\\pandas\\_libs\\lib.pyx:668\u001b[0m, in \u001b[0;36mpandas._libs.lib.astype_intsafe\u001b[1;34m()\u001b[0m\n",
      "\u001b[1;31mValueError\u001b[0m: invalid literal for int() with base 10: 'functional'"
     ]
    }
   ],
   "source": []
  },
  {
   "cell_type": "code",
   "execution_count": null,
   "metadata": {},
   "outputs": [],
   "source": []
  },
  {
   "cell_type": "code",
   "execution_count": 72,
   "metadata": {},
   "outputs": [],
   "source": [
    "for col in cat_cols:\n",
    "    encoder.fit(pd.concat([x_train[col], test_data[col]], axis=0, sort=False))\n",
    "    x_train[col] = encoder.transform(x_train[col])\n",
    "    test_data[col] = encoder.transform(test_data[col])"
   ]
  },
  {
   "cell_type": "code",
   "execution_count": 73,
   "metadata": {},
   "outputs": [],
   "source": [
    "x_train_enc = x_train[cat_cols]\n",
    "test_data_enc = test_data[cat_cols]"
   ]
  },
  {
   "cell_type": "code",
   "execution_count": 22,
   "metadata": {},
   "outputs": [],
   "source": [
    "# Trying count encoding\n",
    "import category_encoders as ce"
   ]
  },
  {
   "cell_type": "code",
   "execution_count": null,
   "metadata": {},
   "outputs": [],
   "source": [
    "# count_enc = ce.CountEncoder()\n",
    "# x_train_enc = count_enc.fit_transform(x_train[cat_cols])\n",
    "# x_train_enc.head()"
   ]
  },
  {
   "cell_type": "code",
   "execution_count": 22,
   "metadata": {},
   "outputs": [
    {
     "name": "stderr",
     "output_type": "stream",
     "text": [
      "D:\\MMA\\ANACONDA\\lib\\site-packages\\category_encoders\\target_encoder.py:92: FutureWarning: Default parameter min_samples_leaf will change in version 2.6.See https://github.com/scikit-learn-contrib/category_encoders/issues/327\n",
      "  warnings.warn(\"Default parameter min_samples_leaf will change in version 2.6.\"\n"
     ]
    }
   ],
   "source": []
  },
  {
   "cell_type": "code",
   "execution_count": 93,
   "metadata": {},
   "outputs": [],
   "source": []
  },
  {
   "cell_type": "code",
   "execution_count": 74,
   "metadata": {},
   "outputs": [
    {
     "data": {
      "text/html": [
       "<div>\n",
       "<style scoped>\n",
       "    .dataframe tbody tr th:only-of-type {\n",
       "        vertical-align: middle;\n",
       "    }\n",
       "\n",
       "    .dataframe tbody tr th {\n",
       "        vertical-align: top;\n",
       "    }\n",
       "\n",
       "    .dataframe thead th {\n",
       "        text-align: right;\n",
       "    }\n",
       "</style>\n",
       "<table border=\"1\" class=\"dataframe\">\n",
       "  <thead>\n",
       "    <tr style=\"text-align: right;\">\n",
       "      <th></th>\n",
       "      <th>ward</th>\n",
       "      <th>scheme_name</th>\n",
       "      <th>funder</th>\n",
       "      <th>installer</th>\n",
       "      <th>subvillage</th>\n",
       "      <th>lga</th>\n",
       "    </tr>\n",
       "  </thead>\n",
       "  <tbody>\n",
       "    <tr>\n",
       "      <th>0</th>\n",
       "      <td>1429</td>\n",
       "      <td>2388</td>\n",
       "      <td>1548</td>\n",
       "      <td>1706</td>\n",
       "      <td>13116</td>\n",
       "      <td>51</td>\n",
       "    </tr>\n",
       "    <tr>\n",
       "      <th>1</th>\n",
       "      <td>1581</td>\n",
       "      <td>644</td>\n",
       "      <td>522</td>\n",
       "      <td>610</td>\n",
       "      <td>17596</td>\n",
       "      <td>103</td>\n",
       "    </tr>\n",
       "    <tr>\n",
       "      <th>2</th>\n",
       "      <td>1629</td>\n",
       "      <td>2261</td>\n",
       "      <td>924</td>\n",
       "      <td>2296</td>\n",
       "      <td>10096</td>\n",
       "      <td>108</td>\n",
       "    </tr>\n",
       "    <tr>\n",
       "      <th>3</th>\n",
       "      <td>1576</td>\n",
       "      <td>644</td>\n",
       "      <td>1961</td>\n",
       "      <td>2078</td>\n",
       "      <td>9998</td>\n",
       "      <td>87</td>\n",
       "    </tr>\n",
       "    <tr>\n",
       "      <th>4</th>\n",
       "      <td>1692</td>\n",
       "      <td>644</td>\n",
       "      <td>20</td>\n",
       "      <td>133</td>\n",
       "      <td>8583</td>\n",
       "      <td>26</td>\n",
       "    </tr>\n",
       "  </tbody>\n",
       "</table>\n",
       "</div>"
      ],
      "text/plain": [
       "   ward  scheme_name  funder  installer  subvillage  lga\n",
       "0  1429         2388    1548       1706       13116   51\n",
       "1  1581          644     522        610       17596  103\n",
       "2  1629         2261     924       2296       10096  108\n",
       "3  1576          644    1961       2078        9998   87\n",
       "4  1692          644      20        133        8583   26"
      ]
     },
     "execution_count": 74,
     "metadata": {},
     "output_type": "execute_result"
    }
   ],
   "source": [
    "x_train_enc.head()"
   ]
  },
  {
   "cell_type": "code",
   "execution_count": 75,
   "metadata": {},
   "outputs": [],
   "source": [
    "# scale numerical attributes\n",
    "from sklearn.preprocessing import StandardScaler"
   ]
  },
  {
   "cell_type": "code",
   "execution_count": 76,
   "metadata": {},
   "outputs": [],
   "source": [
    "scaler = StandardScaler()\n",
    "num_cols = num_cols + ord_cols"
   ]
  },
  {
   "cell_type": "code",
   "execution_count": 77,
   "metadata": {},
   "outputs": [
    {
     "data": {
      "text/plain": [
       "(['amount_tsh',\n",
       "  'gps_height',\n",
       "  'longitude',\n",
       "  'latitude',\n",
       "  'region_code',\n",
       "  'district_code',\n",
       "  'population',\n",
       "  'construction_year',\n",
       "  'record_age',\n",
       "  'tsh_per_head',\n",
       "  'c_na',\n",
       "  'quantity'],\n",
       " ['ward', 'scheme_name', 'funder', 'installer', 'subvillage', 'lga'])"
      ]
     },
     "execution_count": 77,
     "metadata": {},
     "output_type": "execute_result"
    }
   ],
   "source": [
    "num_cols, cat_cols"
   ]
  },
  {
   "cell_type": "code",
   "execution_count": 25,
   "metadata": {},
   "outputs": [],
   "source": [
    "x_train_scaled = scaler.fit_transform(x_train[num_cols])\n",
    "x_train_scaled = pd.DataFrame(x_train_scaled, columns=num_cols)\n",
    "test_data_scaled = scaler.transform(test_data[num_cols])\n",
    "test_data_scaled = pd.DataFrame(test_data_scaled, columns=num_cols)\n",
    "\n",
    "x_train_enc_scaled = scaler.fit_transform(x_train_enc)\n",
    "x_train_enc_scaled = pd.DataFrame(x_train_enc_scaled, columns=x_train_enc.columns)\n",
    "test_data_enc_scaled = scaler.transform(test_data_enc)\n",
    "test_data_enc_scaled = pd.DataFrame(test_data_enc_scaled, columns=test_data_enc.columns)"
   ]
  },
  {
   "cell_type": "code",
   "execution_count": 26,
   "metadata": {},
   "outputs": [
    {
     "data": {
      "text/html": [
       "<div>\n",
       "<style scoped>\n",
       "    .dataframe tbody tr th:only-of-type {\n",
       "        vertical-align: middle;\n",
       "    }\n",
       "\n",
       "    .dataframe tbody tr th {\n",
       "        vertical-align: top;\n",
       "    }\n",
       "\n",
       "    .dataframe thead th {\n",
       "        text-align: right;\n",
       "    }\n",
       "</style>\n",
       "<table border=\"1\" class=\"dataframe\">\n",
       "  <thead>\n",
       "    <tr style=\"text-align: right;\">\n",
       "      <th></th>\n",
       "      <th>ward</th>\n",
       "      <th>scheme_name</th>\n",
       "      <th>funder</th>\n",
       "      <th>installer</th>\n",
       "      <th>subvillage</th>\n",
       "      <th>lga</th>\n",
       "    </tr>\n",
       "  </thead>\n",
       "  <tbody>\n",
       "    <tr>\n",
       "      <th>0</th>\n",
       "      <td>1429</td>\n",
       "      <td>2388</td>\n",
       "      <td>1548</td>\n",
       "      <td>1706</td>\n",
       "      <td>13116</td>\n",
       "      <td>51</td>\n",
       "    </tr>\n",
       "    <tr>\n",
       "      <th>1</th>\n",
       "      <td>1581</td>\n",
       "      <td>644</td>\n",
       "      <td>522</td>\n",
       "      <td>610</td>\n",
       "      <td>17596</td>\n",
       "      <td>103</td>\n",
       "    </tr>\n",
       "    <tr>\n",
       "      <th>2</th>\n",
       "      <td>1629</td>\n",
       "      <td>2261</td>\n",
       "      <td>924</td>\n",
       "      <td>2296</td>\n",
       "      <td>10096</td>\n",
       "      <td>108</td>\n",
       "    </tr>\n",
       "    <tr>\n",
       "      <th>3</th>\n",
       "      <td>1576</td>\n",
       "      <td>644</td>\n",
       "      <td>1961</td>\n",
       "      <td>2078</td>\n",
       "      <td>9998</td>\n",
       "      <td>87</td>\n",
       "    </tr>\n",
       "    <tr>\n",
       "      <th>4</th>\n",
       "      <td>1692</td>\n",
       "      <td>644</td>\n",
       "      <td>20</td>\n",
       "      <td>133</td>\n",
       "      <td>8583</td>\n",
       "      <td>26</td>\n",
       "    </tr>\n",
       "  </tbody>\n",
       "</table>\n",
       "</div>"
      ],
      "text/plain": [
       "   ward  scheme_name  funder  installer  subvillage  lga\n",
       "0  1429         2388    1548       1706       13116   51\n",
       "1  1581          644     522        610       17596  103\n",
       "2  1629         2261     924       2296       10096  108\n",
       "3  1576          644    1961       2078        9998   87\n",
       "4  1692          644      20        133        8583   26"
      ]
     },
     "execution_count": 26,
     "metadata": {},
     "output_type": "execute_result"
    }
   ],
   "source": [
    "x_train_enc.head()"
   ]
  },
  {
   "cell_type": "code",
   "execution_count": 27,
   "metadata": {},
   "outputs": [],
   "source": [
    "x_train_trans = pd.concat([x_train_scaled, x_train_enc_scaled, x_train_oneH], axis=1)\n",
    "test_data_trans = pd.concat([test_data_scaled, test_data_enc_scaled, test_data_oneH], axis=1)"
   ]
  },
  {
   "cell_type": "code",
   "execution_count": 28,
   "metadata": {},
   "outputs": [
    {
     "data": {
      "text/plain": [
       "(59400, 103)"
      ]
     },
     "execution_count": 28,
     "metadata": {},
     "output_type": "execute_result"
    }
   ],
   "source": [
    "x_train_trans.shape"
   ]
  },
  {
   "cell_type": "code",
   "execution_count": 29,
   "metadata": {},
   "outputs": [
    {
     "data": {
      "text/plain": [
       "(14850, 103)"
      ]
     },
     "execution_count": 29,
     "metadata": {},
     "output_type": "execute_result"
    }
   ],
   "source": [
    "test_data_trans.shape"
   ]
  },
  {
   "cell_type": "code",
   "execution_count": 30,
   "metadata": {},
   "outputs": [
    {
     "data": {
      "text/html": [
       "<div>\n",
       "<style scoped>\n",
       "    .dataframe tbody tr th:only-of-type {\n",
       "        vertical-align: middle;\n",
       "    }\n",
       "\n",
       "    .dataframe tbody tr th {\n",
       "        vertical-align: top;\n",
       "    }\n",
       "\n",
       "    .dataframe thead th {\n",
       "        text-align: right;\n",
       "    }\n",
       "</style>\n",
       "<table border=\"1\" class=\"dataframe\">\n",
       "  <thead>\n",
       "    <tr style=\"text-align: right;\">\n",
       "      <th></th>\n",
       "      <th>amount_tsh</th>\n",
       "      <th>gps_height</th>\n",
       "      <th>longitude</th>\n",
       "      <th>latitude</th>\n",
       "      <th>region_code</th>\n",
       "      <th>district_code</th>\n",
       "      <th>population</th>\n",
       "      <th>construction_year</th>\n",
       "      <th>record_age</th>\n",
       "      <th>tsh_per_head</th>\n",
       "      <th>...</th>\n",
       "      <th>x7_groundwater</th>\n",
       "      <th>x7_surface</th>\n",
       "      <th>x7_unknown</th>\n",
       "      <th>x8_cattle trough</th>\n",
       "      <th>x8_communal standpipe</th>\n",
       "      <th>x8_communal standpipe multiple</th>\n",
       "      <th>x8_dam</th>\n",
       "      <th>x8_hand pump</th>\n",
       "      <th>x8_improved spring</th>\n",
       "      <th>x8_other</th>\n",
       "    </tr>\n",
       "  </thead>\n",
       "  <tbody>\n",
       "    <tr>\n",
       "      <th>0</th>\n",
       "      <td>1.895665</td>\n",
       "      <td>0.594894</td>\n",
       "      <td>0.131052</td>\n",
       "      <td>-1.408791</td>\n",
       "      <td>-0.244325</td>\n",
       "      <td>-0.065370</td>\n",
       "      <td>-3.809244e-01</td>\n",
       "      <td>0.245140</td>\n",
       "      <td>1.141136</td>\n",
       "      <td>0.037539</td>\n",
       "      <td>...</td>\n",
       "      <td>1.0</td>\n",
       "      <td>0.0</td>\n",
       "      <td>0.0</td>\n",
       "      <td>0.0</td>\n",
       "      <td>1.0</td>\n",
       "      <td>0.0</td>\n",
       "      <td>0.0</td>\n",
       "      <td>0.0</td>\n",
       "      <td>0.0</td>\n",
       "      <td>0.0</td>\n",
       "    </tr>\n",
       "    <tr>\n",
       "      <th>1</th>\n",
       "      <td>-0.105970</td>\n",
       "      <td>0.613995</td>\n",
       "      <td>0.094610</td>\n",
       "      <td>1.207934</td>\n",
       "      <td>0.267409</td>\n",
       "      <td>-0.376781</td>\n",
       "      <td>-2.406504e-03</td>\n",
       "      <td>1.337149</td>\n",
       "      <td>-1.022152</td>\n",
       "      <td>-0.091202</td>\n",
       "      <td>...</td>\n",
       "      <td>0.0</td>\n",
       "      <td>1.0</td>\n",
       "      <td>0.0</td>\n",
       "      <td>0.0</td>\n",
       "      <td>1.0</td>\n",
       "      <td>0.0</td>\n",
       "      <td>0.0</td>\n",
       "      <td>0.0</td>\n",
       "      <td>0.0</td>\n",
       "      <td>0.0</td>\n",
       "    </tr>\n",
       "    <tr>\n",
       "      <th>2</th>\n",
       "      <td>-0.097630</td>\n",
       "      <td>-0.899219</td>\n",
       "      <td>0.515158</td>\n",
       "      <td>0.639751</td>\n",
       "      <td>0.324269</td>\n",
       "      <td>-0.169174</td>\n",
       "      <td>-6.881315e-02</td>\n",
       "      <td>1.237876</td>\n",
       "      <td>-0.995223</td>\n",
       "      <td>-0.090968</td>\n",
       "      <td>...</td>\n",
       "      <td>0.0</td>\n",
       "      <td>1.0</td>\n",
       "      <td>0.0</td>\n",
       "      <td>0.0</td>\n",
       "      <td>0.0</td>\n",
       "      <td>1.0</td>\n",
       "      <td>0.0</td>\n",
       "      <td>0.0</td>\n",
       "      <td>0.0</td>\n",
       "      <td>0.0</td>\n",
       "    </tr>\n",
       "    <tr>\n",
       "      <th>3</th>\n",
       "      <td>-0.105970</td>\n",
       "      <td>-1.796960</td>\n",
       "      <td>0.671308</td>\n",
       "      <td>-1.849720</td>\n",
       "      <td>4.247564</td>\n",
       "      <td>5.955245</td>\n",
       "      <td>-4.938157e-01</td>\n",
       "      <td>-1.045415</td>\n",
       "      <td>-0.911444</td>\n",
       "      <td>-0.091202</td>\n",
       "      <td>...</td>\n",
       "      <td>1.0</td>\n",
       "      <td>0.0</td>\n",
       "      <td>0.0</td>\n",
       "      <td>0.0</td>\n",
       "      <td>0.0</td>\n",
       "      <td>1.0</td>\n",
       "      <td>0.0</td>\n",
       "      <td>0.0</td>\n",
       "      <td>0.0</td>\n",
       "      <td>0.0</td>\n",
       "    </tr>\n",
       "    <tr>\n",
       "      <th>4</th>\n",
       "      <td>-0.105970</td>\n",
       "      <td>0.178919</td>\n",
       "      <td>-0.448669</td>\n",
       "      <td>1.317271</td>\n",
       "      <td>0.153691</td>\n",
       "      <td>-0.480585</td>\n",
       "      <td>-6.070124e-11</td>\n",
       "      <td>-0.052680</td>\n",
       "      <td>0.779092</td>\n",
       "      <td>-0.091202</td>\n",
       "      <td>...</td>\n",
       "      <td>0.0</td>\n",
       "      <td>1.0</td>\n",
       "      <td>0.0</td>\n",
       "      <td>0.0</td>\n",
       "      <td>1.0</td>\n",
       "      <td>0.0</td>\n",
       "      <td>0.0</td>\n",
       "      <td>0.0</td>\n",
       "      <td>0.0</td>\n",
       "      <td>0.0</td>\n",
       "    </tr>\n",
       "  </tbody>\n",
       "</table>\n",
       "<p>5 rows × 103 columns</p>\n",
       "</div>"
      ],
      "text/plain": [
       "   amount_tsh  gps_height  longitude  latitude  region_code  district_code  \\\n",
       "0    1.895665    0.594894   0.131052 -1.408791    -0.244325      -0.065370   \n",
       "1   -0.105970    0.613995   0.094610  1.207934     0.267409      -0.376781   \n",
       "2   -0.097630   -0.899219   0.515158  0.639751     0.324269      -0.169174   \n",
       "3   -0.105970   -1.796960   0.671308 -1.849720     4.247564       5.955245   \n",
       "4   -0.105970    0.178919  -0.448669  1.317271     0.153691      -0.480585   \n",
       "\n",
       "     population  construction_year  record_age  tsh_per_head  ...  \\\n",
       "0 -3.809244e-01           0.245140    1.141136      0.037539  ...   \n",
       "1 -2.406504e-03           1.337149   -1.022152     -0.091202  ...   \n",
       "2 -6.881315e-02           1.237876   -0.995223     -0.090968  ...   \n",
       "3 -4.938157e-01          -1.045415   -0.911444     -0.091202  ...   \n",
       "4 -6.070124e-11          -0.052680    0.779092     -0.091202  ...   \n",
       "\n",
       "   x7_groundwater  x7_surface  x7_unknown  x8_cattle trough  \\\n",
       "0             1.0         0.0         0.0               0.0   \n",
       "1             0.0         1.0         0.0               0.0   \n",
       "2             0.0         1.0         0.0               0.0   \n",
       "3             1.0         0.0         0.0               0.0   \n",
       "4             0.0         1.0         0.0               0.0   \n",
       "\n",
       "   x8_communal standpipe  x8_communal standpipe multiple  x8_dam  \\\n",
       "0                    1.0                             0.0     0.0   \n",
       "1                    1.0                             0.0     0.0   \n",
       "2                    0.0                             1.0     0.0   \n",
       "3                    0.0                             1.0     0.0   \n",
       "4                    1.0                             0.0     0.0   \n",
       "\n",
       "   x8_hand pump  x8_improved spring  x8_other  \n",
       "0           0.0                 0.0       0.0  \n",
       "1           0.0                 0.0       0.0  \n",
       "2           0.0                 0.0       0.0  \n",
       "3           0.0                 0.0       0.0  \n",
       "4           0.0                 0.0       0.0  \n",
       "\n",
       "[5 rows x 103 columns]"
      ]
     },
     "execution_count": 30,
     "metadata": {},
     "output_type": "execute_result"
    }
   ],
   "source": [
    "x_train_trans.head()"
   ]
  },
  {
   "cell_type": "code",
   "execution_count": 31,
   "metadata": {
    "scrolled": true
   },
   "outputs": [
    {
     "data": {
      "text/html": [
       "<div>\n",
       "<style scoped>\n",
       "    .dataframe tbody tr th:only-of-type {\n",
       "        vertical-align: middle;\n",
       "    }\n",
       "\n",
       "    .dataframe tbody tr th {\n",
       "        vertical-align: top;\n",
       "    }\n",
       "\n",
       "    .dataframe thead th {\n",
       "        text-align: right;\n",
       "    }\n",
       "</style>\n",
       "<table border=\"1\" class=\"dataframe\">\n",
       "  <thead>\n",
       "    <tr style=\"text-align: right;\">\n",
       "      <th></th>\n",
       "      <th>amount_tsh</th>\n",
       "      <th>gps_height</th>\n",
       "      <th>longitude</th>\n",
       "      <th>latitude</th>\n",
       "      <th>region_code</th>\n",
       "      <th>district_code</th>\n",
       "      <th>population</th>\n",
       "      <th>construction_year</th>\n",
       "      <th>record_age</th>\n",
       "      <th>tsh_per_head</th>\n",
       "      <th>...</th>\n",
       "      <th>x7_groundwater</th>\n",
       "      <th>x7_surface</th>\n",
       "      <th>x7_unknown</th>\n",
       "      <th>x8_cattle trough</th>\n",
       "      <th>x8_communal standpipe</th>\n",
       "      <th>x8_communal standpipe multiple</th>\n",
       "      <th>x8_dam</th>\n",
       "      <th>x8_hand pump</th>\n",
       "      <th>x8_improved spring</th>\n",
       "      <th>x8_other</th>\n",
       "    </tr>\n",
       "  </thead>\n",
       "  <tbody>\n",
       "    <tr>\n",
       "      <th>0</th>\n",
       "      <td>-0.105970</td>\n",
       "      <td>1.881020</td>\n",
       "      <td>0.184758</td>\n",
       "      <td>0.558839</td>\n",
       "      <td>0.324269</td>\n",
       "      <td>-0.272978</td>\n",
       "      <td>0.088349</td>\n",
       "      <td>1.535696</td>\n",
       "      <td>-0.932389</td>\n",
       "      <td>-0.091202</td>\n",
       "      <td>...</td>\n",
       "      <td>0.0</td>\n",
       "      <td>1.0</td>\n",
       "      <td>0.0</td>\n",
       "      <td>0.0</td>\n",
       "      <td>0.0</td>\n",
       "      <td>0.0</td>\n",
       "      <td>0.0</td>\n",
       "      <td>0.0</td>\n",
       "      <td>0.0</td>\n",
       "      <td>1.0</td>\n",
       "    </tr>\n",
       "    <tr>\n",
       "      <th>1</th>\n",
       "      <td>-0.105970</td>\n",
       "      <td>0.974789</td>\n",
       "      <td>0.392742</td>\n",
       "      <td>0.813586</td>\n",
       "      <td>-0.756059</td>\n",
       "      <td>-0.376781</td>\n",
       "      <td>0.041865</td>\n",
       "      <td>0.344414</td>\n",
       "      <td>-0.932389</td>\n",
       "      <td>-0.091202</td>\n",
       "      <td>...</td>\n",
       "      <td>1.0</td>\n",
       "      <td>0.0</td>\n",
       "      <td>0.0</td>\n",
       "      <td>0.0</td>\n",
       "      <td>1.0</td>\n",
       "      <td>0.0</td>\n",
       "      <td>0.0</td>\n",
       "      <td>0.0</td>\n",
       "      <td>0.0</td>\n",
       "      <td>0.0</td>\n",
       "    </tr>\n",
       "    <tr>\n",
       "      <th>2</th>\n",
       "      <td>-0.105970</td>\n",
       "      <td>0.970545</td>\n",
       "      <td>0.105131</td>\n",
       "      <td>0.238184</td>\n",
       "      <td>-0.130606</td>\n",
       "      <td>-0.376781</td>\n",
       "      <td>0.484576</td>\n",
       "      <td>1.337149</td>\n",
       "      <td>-0.923412</td>\n",
       "      <td>-0.091202</td>\n",
       "      <td>...</td>\n",
       "      <td>0.0</td>\n",
       "      <td>1.0</td>\n",
       "      <td>0.0</td>\n",
       "      <td>0.0</td>\n",
       "      <td>0.0</td>\n",
       "      <td>0.0</td>\n",
       "      <td>0.0</td>\n",
       "      <td>0.0</td>\n",
       "      <td>0.0</td>\n",
       "      <td>1.0</td>\n",
       "    </tr>\n",
       "    <tr>\n",
       "      <th>3</th>\n",
       "      <td>-0.105970</td>\n",
       "      <td>-1.788471</td>\n",
       "      <td>0.606120</td>\n",
       "      <td>-1.260233</td>\n",
       "      <td>3.678970</td>\n",
       "      <td>3.879171</td>\n",
       "      <td>-0.068813</td>\n",
       "      <td>-0.946142</td>\n",
       "      <td>-0.893491</td>\n",
       "      <td>-0.091202</td>\n",
       "      <td>...</td>\n",
       "      <td>1.0</td>\n",
       "      <td>0.0</td>\n",
       "      <td>0.0</td>\n",
       "      <td>0.0</td>\n",
       "      <td>0.0</td>\n",
       "      <td>0.0</td>\n",
       "      <td>0.0</td>\n",
       "      <td>0.0</td>\n",
       "      <td>0.0</td>\n",
       "      <td>1.0</td>\n",
       "    </tr>\n",
       "    <tr>\n",
       "      <th>4</th>\n",
       "      <td>0.060833</td>\n",
       "      <td>0.318992</td>\n",
       "      <td>0.141411</td>\n",
       "      <td>-1.780173</td>\n",
       "      <td>-0.301184</td>\n",
       "      <td>-0.272978</td>\n",
       "      <td>-0.489389</td>\n",
       "      <td>0.344414</td>\n",
       "      <td>-1.084986</td>\n",
       "      <td>-0.071712</td>\n",
       "      <td>...</td>\n",
       "      <td>1.0</td>\n",
       "      <td>0.0</td>\n",
       "      <td>0.0</td>\n",
       "      <td>0.0</td>\n",
       "      <td>1.0</td>\n",
       "      <td>0.0</td>\n",
       "      <td>0.0</td>\n",
       "      <td>0.0</td>\n",
       "      <td>0.0</td>\n",
       "      <td>0.0</td>\n",
       "    </tr>\n",
       "  </tbody>\n",
       "</table>\n",
       "<p>5 rows × 103 columns</p>\n",
       "</div>"
      ],
      "text/plain": [
       "   amount_tsh  gps_height  longitude  latitude  region_code  district_code  \\\n",
       "0   -0.105970    1.881020   0.184758  0.558839     0.324269      -0.272978   \n",
       "1   -0.105970    0.974789   0.392742  0.813586    -0.756059      -0.376781   \n",
       "2   -0.105970    0.970545   0.105131  0.238184    -0.130606      -0.376781   \n",
       "3   -0.105970   -1.788471   0.606120 -1.260233     3.678970       3.879171   \n",
       "4    0.060833    0.318992   0.141411 -1.780173    -0.301184      -0.272978   \n",
       "\n",
       "   population  construction_year  record_age  tsh_per_head  ...  \\\n",
       "0    0.088349           1.535696   -0.932389     -0.091202  ...   \n",
       "1    0.041865           0.344414   -0.932389     -0.091202  ...   \n",
       "2    0.484576           1.337149   -0.923412     -0.091202  ...   \n",
       "3   -0.068813          -0.946142   -0.893491     -0.091202  ...   \n",
       "4   -0.489389           0.344414   -1.084986     -0.071712  ...   \n",
       "\n",
       "   x7_groundwater  x7_surface  x7_unknown  x8_cattle trough  \\\n",
       "0             0.0         1.0         0.0               0.0   \n",
       "1             1.0         0.0         0.0               0.0   \n",
       "2             0.0         1.0         0.0               0.0   \n",
       "3             1.0         0.0         0.0               0.0   \n",
       "4             1.0         0.0         0.0               0.0   \n",
       "\n",
       "   x8_communal standpipe  x8_communal standpipe multiple  x8_dam  \\\n",
       "0                    0.0                             0.0     0.0   \n",
       "1                    1.0                             0.0     0.0   \n",
       "2                    0.0                             0.0     0.0   \n",
       "3                    0.0                             0.0     0.0   \n",
       "4                    1.0                             0.0     0.0   \n",
       "\n",
       "   x8_hand pump  x8_improved spring  x8_other  \n",
       "0           0.0                 0.0       1.0  \n",
       "1           0.0                 0.0       0.0  \n",
       "2           0.0                 0.0       1.0  \n",
       "3           0.0                 0.0       1.0  \n",
       "4           0.0                 0.0       0.0  \n",
       "\n",
       "[5 rows x 103 columns]"
      ]
     },
     "execution_count": 31,
     "metadata": {},
     "output_type": "execute_result"
    }
   ],
   "source": [
    "test_data_trans.head()"
   ]
  },
  {
   "cell_type": "code",
   "execution_count": 32,
   "metadata": {},
   "outputs": [],
   "source": [
    "# Scheme_name doesn't add predictive power"
   ]
  },
  {
   "cell_type": "code",
   "execution_count": 33,
   "metadata": {},
   "outputs": [],
   "source": [
    "x_train_trans.drop(columns=['scheme_name'], inplace=True)"
   ]
  },
  {
   "cell_type": "code",
   "execution_count": 34,
   "metadata": {},
   "outputs": [],
   "source": [
    "test_data_trans.drop(columns=['scheme_name'], inplace=True)"
   ]
  },
  {
   "cell_type": "markdown",
   "metadata": {},
   "source": [
    "### Feature selection"
   ]
  },
  {
   "cell_type": "code",
   "execution_count": 37,
   "metadata": {},
   "outputs": [],
   "source": [
    "from sklearn.linear_model import LogisticRegression\n",
    "from sklearn.feature_selection import SelectFromModel"
   ]
  },
  {
   "cell_type": "code",
   "execution_count": 37,
   "metadata": {},
   "outputs": [],
   "source": [
    "logistic = LogisticRegression(C=0.5, penalty=\"l1\", random_state=42, solver='liblinear')"
   ]
  },
  {
   "cell_type": "code",
   "execution_count": null,
   "metadata": {},
   "outputs": [],
   "source": [
    "# log_fit = logistic.fit(x_train_trans, y_train)"
   ]
  },
  {
   "cell_type": "code",
   "execution_count": null,
   "metadata": {},
   "outputs": [],
   "source": [
    "# model = SelectFromModel(log_fit, prefit=True)"
   ]
  },
  {
   "cell_type": "code",
   "execution_count": null,
   "metadata": {},
   "outputs": [],
   "source": [
    "# x_new = model.transform(x_train_trans)"
   ]
  },
  {
   "cell_type": "code",
   "execution_count": null,
   "metadata": {},
   "outputs": [],
   "source": [
    "# Get back the kept features as a DataFrame with dropped columns as all 0s\n",
    "# selected_features = pd.DataFrame(model.inverse_transform(x_new), index=x_train_trans.index, \n",
    "#                                  columns=x_train_trans.columns)"
   ]
  },
  {
   "cell_type": "code",
   "execution_count": null,
   "metadata": {},
   "outputs": [],
   "source": [
    "# Dropped columns have values of all 0s, keep other columns \n",
    "# selected_columns = selected_features.columns[selected_features.var() != 0]"
   ]
  },
  {
   "cell_type": "code",
   "execution_count": null,
   "metadata": {},
   "outputs": [],
   "source": [
    "# selected_columns.shape"
   ]
  },
  {
   "cell_type": "markdown",
   "metadata": {},
   "source": [
    "## Model"
   ]
  },
  {
   "cell_type": "code",
   "execution_count": 36,
   "metadata": {},
   "outputs": [],
   "source": [
    "from sklearn.ensemble import RandomForestClassifier"
   ]
  },
  {
   "cell_type": "code",
   "execution_count": 97,
   "metadata": {},
   "outputs": [],
   "source": [
    "from sklearn.ensemble import ExtraTreesClassifier"
   ]
  },
  {
   "cell_type": "code",
   "execution_count": 40,
   "metadata": {},
   "outputs": [],
   "source": [
    "x_train_trans.to_csv(r'xtrainfinal.csv',index = 'id')"
   ]
  },
  {
   "cell_type": "markdown",
   "metadata": {},
   "source": [
    "#### Random forest"
   ]
  },
  {
   "cell_type": "code",
   "execution_count": 37,
   "metadata": {},
   "outputs": [],
   "source": [
    "forest = RandomForestClassifier(random_state=42, n_estimators=1250, min_samples_split=5,min_samples_leaf = 1,\n",
    "                                oob_score=True, n_jobs=-1, max_features='sqrt', bootstrap=True,max_depth= 80)"
   ]
  },
  {
   "cell_type": "code",
   "execution_count": 98,
   "metadata": {},
   "outputs": [],
   "source": [
    "Extra = ExtraTreesClassifier(random_state=42, n_estimators=1250, min_samples_split=5,min_samples_leaf = 1,\n",
    "                                oob_score=True, n_jobs=-1, max_features='auto', bootstrap=True,max_depth= 80)"
   ]
  },
  {
   "cell_type": "code",
   "execution_count": 99,
   "metadata": {},
   "outputs": [
    {
     "name": "stderr",
     "output_type": "stream",
     "text": [
      "D:\\MMA\\ANACONDA\\lib\\site-packages\\sklearn\\ensemble\\_forest.py:427: FutureWarning: `max_features='auto'` has been deprecated in 1.1 and will be removed in 1.3. To keep the past behaviour, explicitly set `max_features='sqrt'` or remove this parameter as it is also the default value for RandomForestClassifiers and ExtraTreesClassifiers.\n",
      "  warn(\n"
     ]
    },
    {
     "data": {
      "text/html": [
       "<style>#sk-container-id-5 {color: black;background-color: white;}#sk-container-id-5 pre{padding: 0;}#sk-container-id-5 div.sk-toggleable {background-color: white;}#sk-container-id-5 label.sk-toggleable__label {cursor: pointer;display: block;width: 100%;margin-bottom: 0;padding: 0.3em;box-sizing: border-box;text-align: center;}#sk-container-id-5 label.sk-toggleable__label-arrow:before {content: \"▸\";float: left;margin-right: 0.25em;color: #696969;}#sk-container-id-5 label.sk-toggleable__label-arrow:hover:before {color: black;}#sk-container-id-5 div.sk-estimator:hover label.sk-toggleable__label-arrow:before {color: black;}#sk-container-id-5 div.sk-toggleable__content {max-height: 0;max-width: 0;overflow: hidden;text-align: left;background-color: #f0f8ff;}#sk-container-id-5 div.sk-toggleable__content pre {margin: 0.2em;color: black;border-radius: 0.25em;background-color: #f0f8ff;}#sk-container-id-5 input.sk-toggleable__control:checked~div.sk-toggleable__content {max-height: 200px;max-width: 100%;overflow: auto;}#sk-container-id-5 input.sk-toggleable__control:checked~label.sk-toggleable__label-arrow:before {content: \"▾\";}#sk-container-id-5 div.sk-estimator input.sk-toggleable__control:checked~label.sk-toggleable__label {background-color: #d4ebff;}#sk-container-id-5 div.sk-label input.sk-toggleable__control:checked~label.sk-toggleable__label {background-color: #d4ebff;}#sk-container-id-5 input.sk-hidden--visually {border: 0;clip: rect(1px 1px 1px 1px);clip: rect(1px, 1px, 1px, 1px);height: 1px;margin: -1px;overflow: hidden;padding: 0;position: absolute;width: 1px;}#sk-container-id-5 div.sk-estimator {font-family: monospace;background-color: #f0f8ff;border: 1px dotted black;border-radius: 0.25em;box-sizing: border-box;margin-bottom: 0.5em;}#sk-container-id-5 div.sk-estimator:hover {background-color: #d4ebff;}#sk-container-id-5 div.sk-parallel-item::after {content: \"\";width: 100%;border-bottom: 1px solid gray;flex-grow: 1;}#sk-container-id-5 div.sk-label:hover label.sk-toggleable__label {background-color: #d4ebff;}#sk-container-id-5 div.sk-serial::before {content: \"\";position: absolute;border-left: 1px solid gray;box-sizing: border-box;top: 0;bottom: 0;left: 50%;z-index: 0;}#sk-container-id-5 div.sk-serial {display: flex;flex-direction: column;align-items: center;background-color: white;padding-right: 0.2em;padding-left: 0.2em;position: relative;}#sk-container-id-5 div.sk-item {position: relative;z-index: 1;}#sk-container-id-5 div.sk-parallel {display: flex;align-items: stretch;justify-content: center;background-color: white;position: relative;}#sk-container-id-5 div.sk-item::before, #sk-container-id-5 div.sk-parallel-item::before {content: \"\";position: absolute;border-left: 1px solid gray;box-sizing: border-box;top: 0;bottom: 0;left: 50%;z-index: -1;}#sk-container-id-5 div.sk-parallel-item {display: flex;flex-direction: column;z-index: 1;position: relative;background-color: white;}#sk-container-id-5 div.sk-parallel-item:first-child::after {align-self: flex-end;width: 50%;}#sk-container-id-5 div.sk-parallel-item:last-child::after {align-self: flex-start;width: 50%;}#sk-container-id-5 div.sk-parallel-item:only-child::after {width: 0;}#sk-container-id-5 div.sk-dashed-wrapped {border: 1px dashed gray;margin: 0 0.4em 0.5em 0.4em;box-sizing: border-box;padding-bottom: 0.4em;background-color: white;}#sk-container-id-5 div.sk-label label {font-family: monospace;font-weight: bold;display: inline-block;line-height: 1.2em;}#sk-container-id-5 div.sk-label-container {text-align: center;}#sk-container-id-5 div.sk-container {/* jupyter's `normalize.less` sets `[hidden] { display: none; }` but bootstrap.min.css set `[hidden] { display: none !important; }` so we also need the `!important` here to be able to override the default hidden behavior on the sphinx rendered scikit-learn.org. See: https://github.com/scikit-learn/scikit-learn/issues/21755 */display: inline-block !important;position: relative;}#sk-container-id-5 div.sk-text-repr-fallback {display: none;}</style><div id=\"sk-container-id-5\" class=\"sk-top-container\"><div class=\"sk-text-repr-fallback\"><pre>ExtraTreesClassifier(bootstrap=True, max_depth=80, max_features=&#x27;auto&#x27;,\n",
       "                     min_samples_split=5, n_estimators=1250, n_jobs=-1,\n",
       "                     oob_score=True, random_state=42)</pre><b>In a Jupyter environment, please rerun this cell to show the HTML representation or trust the notebook. <br />On GitHub, the HTML representation is unable to render, please try loading this page with nbviewer.org.</b></div><div class=\"sk-container\" hidden><div class=\"sk-item\"><div class=\"sk-estimator sk-toggleable\"><input class=\"sk-toggleable__control sk-hidden--visually\" id=\"sk-estimator-id-5\" type=\"checkbox\" checked><label for=\"sk-estimator-id-5\" class=\"sk-toggleable__label sk-toggleable__label-arrow\">ExtraTreesClassifier</label><div class=\"sk-toggleable__content\"><pre>ExtraTreesClassifier(bootstrap=True, max_depth=80, max_features=&#x27;auto&#x27;,\n",
       "                     min_samples_split=5, n_estimators=1250, n_jobs=-1,\n",
       "                     oob_score=True, random_state=42)</pre></div></div></div></div></div>"
      ],
      "text/plain": [
       "ExtraTreesClassifier(bootstrap=True, max_depth=80, max_features='auto',\n",
       "                     min_samples_split=5, n_estimators=1250, n_jobs=-1,\n",
       "                     oob_score=True, random_state=42)"
      ]
     },
     "execution_count": 99,
     "metadata": {},
     "output_type": "execute_result"
    }
   ],
   "source": [
    "Extra.fit(x_train_trans, y_train)"
   ]
  },
  {
   "cell_type": "code",
   "execution_count": 38,
   "metadata": {
    "scrolled": false
   },
   "outputs": [
    {
     "name": "stderr",
     "output_type": "stream",
     "text": [
      "D:\\MMA\\ANACONDA\\lib\\site-packages\\sklearn\\ensemble\\_forest.py:427: FutureWarning: `max_features='auto'` has been deprecated in 1.1 and will be removed in 1.3. To keep the past behaviour, explicitly set `max_features='sqrt'` or remove this parameter as it is also the default value for RandomForestClassifiers and ExtraTreesClassifiers.\n",
      "  warn(\n"
     ]
    },
    {
     "data": {
      "text/html": [
       "<style>#sk-container-id-1 {color: black;background-color: white;}#sk-container-id-1 pre{padding: 0;}#sk-container-id-1 div.sk-toggleable {background-color: white;}#sk-container-id-1 label.sk-toggleable__label {cursor: pointer;display: block;width: 100%;margin-bottom: 0;padding: 0.3em;box-sizing: border-box;text-align: center;}#sk-container-id-1 label.sk-toggleable__label-arrow:before {content: \"▸\";float: left;margin-right: 0.25em;color: #696969;}#sk-container-id-1 label.sk-toggleable__label-arrow:hover:before {color: black;}#sk-container-id-1 div.sk-estimator:hover label.sk-toggleable__label-arrow:before {color: black;}#sk-container-id-1 div.sk-toggleable__content {max-height: 0;max-width: 0;overflow: hidden;text-align: left;background-color: #f0f8ff;}#sk-container-id-1 div.sk-toggleable__content pre {margin: 0.2em;color: black;border-radius: 0.25em;background-color: #f0f8ff;}#sk-container-id-1 input.sk-toggleable__control:checked~div.sk-toggleable__content {max-height: 200px;max-width: 100%;overflow: auto;}#sk-container-id-1 input.sk-toggleable__control:checked~label.sk-toggleable__label-arrow:before {content: \"▾\";}#sk-container-id-1 div.sk-estimator input.sk-toggleable__control:checked~label.sk-toggleable__label {background-color: #d4ebff;}#sk-container-id-1 div.sk-label input.sk-toggleable__control:checked~label.sk-toggleable__label {background-color: #d4ebff;}#sk-container-id-1 input.sk-hidden--visually {border: 0;clip: rect(1px 1px 1px 1px);clip: rect(1px, 1px, 1px, 1px);height: 1px;margin: -1px;overflow: hidden;padding: 0;position: absolute;width: 1px;}#sk-container-id-1 div.sk-estimator {font-family: monospace;background-color: #f0f8ff;border: 1px dotted black;border-radius: 0.25em;box-sizing: border-box;margin-bottom: 0.5em;}#sk-container-id-1 div.sk-estimator:hover {background-color: #d4ebff;}#sk-container-id-1 div.sk-parallel-item::after {content: \"\";width: 100%;border-bottom: 1px solid gray;flex-grow: 1;}#sk-container-id-1 div.sk-label:hover label.sk-toggleable__label {background-color: #d4ebff;}#sk-container-id-1 div.sk-serial::before {content: \"\";position: absolute;border-left: 1px solid gray;box-sizing: border-box;top: 0;bottom: 0;left: 50%;z-index: 0;}#sk-container-id-1 div.sk-serial {display: flex;flex-direction: column;align-items: center;background-color: white;padding-right: 0.2em;padding-left: 0.2em;position: relative;}#sk-container-id-1 div.sk-item {position: relative;z-index: 1;}#sk-container-id-1 div.sk-parallel {display: flex;align-items: stretch;justify-content: center;background-color: white;position: relative;}#sk-container-id-1 div.sk-item::before, #sk-container-id-1 div.sk-parallel-item::before {content: \"\";position: absolute;border-left: 1px solid gray;box-sizing: border-box;top: 0;bottom: 0;left: 50%;z-index: -1;}#sk-container-id-1 div.sk-parallel-item {display: flex;flex-direction: column;z-index: 1;position: relative;background-color: white;}#sk-container-id-1 div.sk-parallel-item:first-child::after {align-self: flex-end;width: 50%;}#sk-container-id-1 div.sk-parallel-item:last-child::after {align-self: flex-start;width: 50%;}#sk-container-id-1 div.sk-parallel-item:only-child::after {width: 0;}#sk-container-id-1 div.sk-dashed-wrapped {border: 1px dashed gray;margin: 0 0.4em 0.5em 0.4em;box-sizing: border-box;padding-bottom: 0.4em;background-color: white;}#sk-container-id-1 div.sk-label label {font-family: monospace;font-weight: bold;display: inline-block;line-height: 1.2em;}#sk-container-id-1 div.sk-label-container {text-align: center;}#sk-container-id-1 div.sk-container {/* jupyter's `normalize.less` sets `[hidden] { display: none; }` but bootstrap.min.css set `[hidden] { display: none !important; }` so we also need the `!important` here to be able to override the default hidden behavior on the sphinx rendered scikit-learn.org. See: https://github.com/scikit-learn/scikit-learn/issues/21755 */display: inline-block !important;position: relative;}#sk-container-id-1 div.sk-text-repr-fallback {display: none;}</style><div id=\"sk-container-id-1\" class=\"sk-top-container\"><div class=\"sk-text-repr-fallback\"><pre>RandomForestClassifier(max_depth=80, max_features=&#x27;auto&#x27;, min_samples_split=5,\n",
       "                       n_estimators=1250, n_jobs=-1, oob_score=True,\n",
       "                       random_state=42)</pre><b>In a Jupyter environment, please rerun this cell to show the HTML representation or trust the notebook. <br />On GitHub, the HTML representation is unable to render, please try loading this page with nbviewer.org.</b></div><div class=\"sk-container\" hidden><div class=\"sk-item\"><div class=\"sk-estimator sk-toggleable\"><input class=\"sk-toggleable__control sk-hidden--visually\" id=\"sk-estimator-id-1\" type=\"checkbox\" checked><label for=\"sk-estimator-id-1\" class=\"sk-toggleable__label sk-toggleable__label-arrow\">RandomForestClassifier</label><div class=\"sk-toggleable__content\"><pre>RandomForestClassifier(max_depth=80, max_features=&#x27;auto&#x27;, min_samples_split=5,\n",
       "                       n_estimators=1250, n_jobs=-1, oob_score=True,\n",
       "                       random_state=42)</pre></div></div></div></div></div>"
      ],
      "text/plain": [
       "RandomForestClassifier(max_depth=80, max_features='auto', min_samples_split=5,\n",
       "                       n_estimators=1250, n_jobs=-1, oob_score=True,\n",
       "                       random_state=42)"
      ]
     },
     "execution_count": 38,
     "metadata": {},
     "output_type": "execute_result"
    }
   ],
   "source": [
    "forest.fit(x_train_trans, y_train)"
   ]
  },
  {
   "cell_type": "code",
   "execution_count": 39,
   "metadata": {},
   "outputs": [
    {
     "data": {
      "text/plain": [
       "0.8194949494949495"
      ]
     },
     "execution_count": 39,
     "metadata": {},
     "output_type": "execute_result"
    }
   ],
   "source": [
    "forest.oob_score_"
   ]
  },
  {
   "cell_type": "code",
   "execution_count": 100,
   "metadata": {},
   "outputs": [
    {
     "data": {
      "text/plain": [
       "0.8142087542087542"
      ]
     },
     "execution_count": 100,
     "metadata": {},
     "output_type": "execute_result"
    }
   ],
   "source": [
    "Extra.oob_score_"
   ]
  },
  {
   "cell_type": "code",
   "execution_count": 45,
   "metadata": {},
   "outputs": [
    {
     "name": "stderr",
     "output_type": "stream",
     "text": [
      "D:\\MMA\\ANACONDA\\lib\\site-packages\\sklearn\\ensemble\\_forest.py:427: FutureWarning: `max_features='auto'` has been deprecated in 1.1 and will be removed in 1.3. To keep the past behaviour, explicitly set `max_features='sqrt'` or remove this parameter as it is also the default value for RandomForestClassifiers and ExtraTreesClassifiers.\n",
      "  warn(\n",
      "D:\\MMA\\ANACONDA\\lib\\site-packages\\sklearn\\ensemble\\_forest.py:427: FutureWarning: `max_features='auto'` has been deprecated in 1.1 and will be removed in 1.3. To keep the past behaviour, explicitly set `max_features='sqrt'` or remove this parameter as it is also the default value for RandomForestClassifiers and ExtraTreesClassifiers.\n",
      "  warn(\n",
      "D:\\MMA\\ANACONDA\\lib\\site-packages\\sklearn\\ensemble\\_forest.py:427: FutureWarning: `max_features='auto'` has been deprecated in 1.1 and will be removed in 1.3. To keep the past behaviour, explicitly set `max_features='sqrt'` or remove this parameter as it is also the default value for RandomForestClassifiers and ExtraTreesClassifiers.\n",
      "  warn(\n",
      "D:\\MMA\\ANACONDA\\lib\\site-packages\\sklearn\\ensemble\\_forest.py:427: FutureWarning: `max_features='auto'` has been deprecated in 1.1 and will be removed in 1.3. To keep the past behaviour, explicitly set `max_features='sqrt'` or remove this parameter as it is also the default value for RandomForestClassifiers and ExtraTreesClassifiers.\n",
      "  warn(\n",
      "D:\\MMA\\ANACONDA\\lib\\site-packages\\sklearn\\ensemble\\_forest.py:427: FutureWarning: `max_features='auto'` has been deprecated in 1.1 and will be removed in 1.3. To keep the past behaviour, explicitly set `max_features='sqrt'` or remove this parameter as it is also the default value for RandomForestClassifiers and ExtraTreesClassifiers.\n",
      "  warn(\n"
     ]
    },
    {
     "data": {
      "text/plain": [
       "0.8147643097643098"
      ]
     },
     "execution_count": 45,
     "metadata": {},
     "output_type": "execute_result"
    }
   ],
   "source": [
    "# cross-validation\n",
    "from sklearn.model_selection import cross_val_score\n",
    "\n",
    "forest_scores = cross_val_score(forest, x_train_trans, y_train,\n",
    "                                scoring=\"accuracy\", cv=5)\n",
    "forest_scores.mean()"
   ]
  },
  {
   "cell_type": "code",
   "execution_count": 135,
   "metadata": {},
   "outputs": [
    {
     "name": "stdout",
     "output_type": "stream",
     "text": [
      "amount_tsh 0.020129127041875843\n",
      "gps_height 0.040797092885783315\n",
      "longitude 0.0702450886815711\n",
      "latitude 0.06780536299602344\n",
      "region_code 0.01858444920814591\n",
      "district_code 0.0189288295076374\n",
      "population 0.02844416206352324\n",
      "construction_year 0.04760570002015468\n",
      "record_age 0.04552852606881736\n",
      "tsh_per_head 0.02396466356108322\n",
      "qty_per_head 0.06081977335940892\n",
      "quantity 0.10908732630135785\n",
      "ward 0.034559657213019526\n",
      "funder 0.030959123931908434\n",
      "subvillage 0.041042567403580955\n",
      "lga 0.028239022392559706\n",
      "installer 0.026584917497703257\n",
      "x0_Internal 0.003337963831260443\n",
      "x0_Lake Nyasa 0.003442902748606464\n",
      "x0_Lake Rukwa 0.00292435953498927\n",
      "x0_Lake Tanganyika 0.00333581878906718\n",
      "x0_Lake Victoria 0.003016816052277962\n",
      "x0_Pangani 0.0027028365266674507\n",
      "x0_Rufiji 0.002374102559530653\n",
      "x0_Ruvuma / Southern Coast 0.0021374529220785934\n",
      "x0_Wami / Ruvu 0.002368023620064309\n",
      "x1_Company 0.0012317036265858995\n",
      "x1_Other 0.0005616165587115804\n",
      "x1_Parastatal 0.001035155308595023\n",
      "x1_Private operator 0.0007570942658583177\n",
      "x1_SWC 0.00010997218848092539\n",
      "x1_Trust 8.116051543250205e-05\n",
      "x1_VWC 0.00505858923385481\n",
      "x1_WUA 0.001183455065703799\n",
      "x1_WUG 0.002922465546279733\n",
      "x1_Water Board 0.0018836180113236494\n",
      "x1_Water authority 0.002270510953187203\n",
      "x2_afridev 0.001548405366583842\n",
      "x2_cemo 0.0001507299492770556\n",
      "x2_climax 7.325926761822864e-05\n",
      "x2_gravity 0.0092392868419994\n",
      "x2_india mark ii 0.0017154847111943473\n",
      "x2_india mark iii 0.00023872190480665335\n",
      "x2_ksb 0.0030557682009022145\n",
      "x2_mono 0.0031851444992189878\n",
      "x2_nira/tanira 0.007490176596382596\n",
      "x2_other 0.03301924649369625\n",
      "x2_other - mkulima/shinyanga 8.945414906263938e-08\n",
      "x2_other - play pump 0.00010089274443533739\n",
      "x2_other - rope pump 0.0005542145816228555\n",
      "x2_other - swn 81 0.0002696484014176795\n",
      "x2_submersible 0.0031340586031067133\n",
      "x2_swn 80 0.0025589057132630135\n",
      "x2_walimi 0.00010853182093566806\n",
      "x2_windmill 0.00015231364115752942\n",
      "x3_company 0.0012959523783225276\n",
      "x3_other 0.0006747667929521892\n",
      "x3_other - school 9.70394453395395e-05\n",
      "x3_parastatal 0.001112743163811549\n",
      "x3_private operator 0.0018450505223279105\n",
      "x3_trust 0.00010627763435443301\n",
      "x3_unknown 0.0006830019216011888\n",
      "x3_vwc 0.007084236745393472\n",
      "x3_water authority 0.0008464855570161757\n",
      "x3_water board 0.0016539742809614318\n",
      "x3_wua 0.000999272912438329\n",
      "x3_wug 0.0027153895258530576\n",
      "x4_annually 0.0024529779653686425\n",
      "x4_monthly 0.004169060280274679\n",
      "x4_never pay 0.011360529115328763\n",
      "x4_on failure 0.002177075247687741\n",
      "x4_other 0.0007252104149163912\n",
      "x4_per bucket 0.005064183454066794\n",
      "x4_unknown 0.005434436788454169\n",
      "x5_coloured 0.000478483029128507\n",
      "x5_fluoride 0.0002588065427437216\n",
      "x5_fluoride abandoned 7.010490087919196e-06\n",
      "x5_milky 0.0008971819453806232\n",
      "x5_salty 0.0025844213365162\n",
      "x5_salty abandoned 0.0005569782938576021\n",
      "x5_soft 0.004903568361069975\n",
      "x5_unknown 0.005940505359996291\n",
      "x6_dam 0.001167950638699485\n",
      "x6_hand dtw 0.0005904086825932644\n",
      "x6_lake 0.0019590885238433683\n",
      "x6_machine dbh 0.004697096987868711\n",
      "x6_other 0.00022881342683507428\n",
      "x6_rainwater harvesting 0.0031543583067325507\n",
      "x6_river 0.003387180383194537\n",
      "x6_shallow well 0.005045704193263345\n",
      "x6_spring 0.006884228498025078\n",
      "x6_unknown 0.00010279007271497733\n",
      "x7_groundwater 0.004359990388309755\n",
      "x7_surface 0.004418496179538206\n",
      "x7_unknown 0.00027967660753500383\n",
      "x8_cattle trough 0.0001778529765468903\n",
      "x8_communal standpipe 0.011847655349928677\n",
      "x8_communal standpipe multiple 0.010078261209383859\n",
      "x8_dam 6.234606624955584e-06\n",
      "x8_hand pump 0.010049592333398399\n",
      "x8_improved spring 0.0018367305274461143\n",
      "x8_other 0.040947383817790506\n"
     ]
    }
   ],
   "source": [
    "# feature importance\n",
    "for name, score in zip(x_train_trans[x_train_trans.columns], forest.feature_importances_):\n",
    "    print(name, score)"
   ]
  },
  {
   "cell_type": "code",
   "execution_count": null,
   "metadata": {},
   "outputs": [],
   "source": [
    "# Randomized search\n",
    "from sklearn.model_selection import RandomizedSearchCV\n",
    "\n",
    "# Number of trees in random forest\n",
    "n_estimators = [int(x) for x in np.linspace(start = 200, stop = 2000, num = 10)]\n",
    "\n",
    "# Number of features to consider at every split\n",
    "max_features = ['auto', 'sqrt']\n",
    "\n",
    "# Maximum number of levels in tree\n",
    "max_depth = [int(x) for x in np.linspace(10, 110, num = 11)]\n",
    "max_depth.append(None)\n",
    "\n",
    "# Minimum number of samples required to split a node\n",
    "min_samples_split = [2, 5, 10]\n",
    "\n",
    "# Minimum number of samples required at each leaf node\n",
    "min_samples_leaf = [1, 2, 4]\n",
    "\n",
    "# Method of selecting samples for training each tree\n",
    "bootstrap = [True, False]\n",
    "\n",
    "# Create the random grid\n",
    "random_grid = {'n_estimators': n_estimators,\n",
    "               'max_features': max_features,\n",
    "               'max_depth': max_depth,\n",
    "               'min_samples_split': min_samples_split,\n",
    "               'min_samples_leaf': min_samples_leaf,\n",
    "               'bootstrap': bootstrap}\n"
   ]
  },
  {
   "cell_type": "code",
   "execution_count": 106,
   "metadata": {},
   "outputs": [],
   "source": [
    "def objective_dt(trial, X, y):\n",
    "\n",
    "  # Now, define all the hyperparams we want to vary, and what values they are allowed\n",
    "  # to take.\n",
    "  #\n",
    "  # Each trial, optuna will automatically choose values for each hyperparam.\n",
    "  hyper_params = {\n",
    "        \n",
    "        \"n_estimators\":trial.suggest_int(\"n_estimators\", 900, 1700, step=10),\n",
    "        \"max_depth\": trial.suggest_int(\"max_depth\", 50,100 , step=5),\n",
    "\n",
    "        \"min_samples_split\": trial.suggest_int(\"min_samples_split\", 5,10, step=5),\n",
    "        \"min_samples_leaf\": trial.suggest_int(\"min_samples_leaf\", 1,5, step=1),\n",
    "        #\"max_leaf_nodes\": trial.suggest_int(\"max_leaf_nodes\", 10, 1010, step=100),\n",
    "\n",
    "        'class_weight': trial.suggest_categorical('class_weight', [None]),\n",
    "         'oob_score' : True,\n",
    "         \n",
    "        \"random_state\": 42,\n",
    "        \"bootstrap\": True,\n",
    "      \n",
    "  }\n",
    "    # Use the hyperparams that optuna has chosen for this trial to create a DecisionTreeClassifier\n",
    "  clf = ExtraTreesClassifier(**hyper_params)\n",
    "\n",
    "  # Run CV to see how well these hyper_params do\n",
    "  cv_scores = cross_val_score(clf, X, y, cv=5, scoring=\"accuracy\")\n",
    "  score = np.mean(cv_scores)\n",
    "\n",
    "  # Whatever we return here tells optuna how well these parameters did\n",
    "  return score"
   ]
  },
  {
   "cell_type": "code",
   "execution_count": null,
   "metadata": {},
   "outputs": [],
   "source": []
  },
  {
   "cell_type": "code",
   "execution_count": 60,
   "metadata": {},
   "outputs": [],
   "source": [
    "from sklearn.model_selection import cross_val_score"
   ]
  },
  {
   "cell_type": "code",
   "execution_count": 76,
   "metadata": {},
   "outputs": [],
   "source": [
    "import optuna"
   ]
  },
  {
   "cell_type": "code",
   "execution_count": 107,
   "metadata": {},
   "outputs": [
    {
     "name": "stderr",
     "output_type": "stream",
     "text": [
      "\u001b[32m[I 2022-07-23 11:07:55,882]\u001b[0m A new study created in memory with name: no-name-2bdb8100-45ac-44d5-a09b-aea6845379a2\u001b[0m\n"
     ]
    }
   ],
   "source": [
    "study = optuna.create_study(direction=\"maximize\")"
   ]
  },
  {
   "cell_type": "code",
   "execution_count": null,
   "metadata": {},
   "outputs": [],
   "source": []
  },
  {
   "cell_type": "code",
   "execution_count": null,
   "metadata": {
    "scrolled": false
   },
   "outputs": [
    {
     "name": "stderr",
     "output_type": "stream",
     "text": [
      "\u001b[32m[I 2022-07-23 11:12:59,558]\u001b[0m Trial 0 finished with value: 0.7865488215488216 and parameters: {'n_estimators': 970, 'max_depth': 55, 'min_samples_split': 10, 'min_samples_leaf': 4, 'class_weight': None}. Best is trial 0 with value: 0.7865488215488216.\u001b[0m\n",
      "\u001b[32m[I 2022-07-23 11:18:51,644]\u001b[0m Trial 1 finished with value: 0.7955218855218855 and parameters: {'n_estimators': 940, 'max_depth': 70, 'min_samples_split': 10, 'min_samples_leaf': 2, 'class_weight': None}. Best is trial 1 with value: 0.7955218855218855.\u001b[0m\n",
      "\u001b[32m[I 2022-07-23 11:28:15,925]\u001b[0m Trial 2 finished with value: 0.7865488215488216 and parameters: {'n_estimators': 1620, 'max_depth': 75, 'min_samples_split': 10, 'min_samples_leaf': 4, 'class_weight': None}. Best is trial 1 with value: 0.7955218855218855.\u001b[0m\n",
      "\u001b[32m[I 2022-07-23 11:35:35,123]\u001b[0m Trial 3 finished with value: 0.7827946127946128 and parameters: {'n_estimators': 1290, 'max_depth': 95, 'min_samples_split': 5, 'min_samples_leaf': 5, 'class_weight': None}. Best is trial 1 with value: 0.7955218855218855.\u001b[0m\n",
      "\u001b[32m[I 2022-07-23 11:41:34,636]\u001b[0m Trial 4 finished with value: 0.7829966329966329 and parameters: {'n_estimators': 1140, 'max_depth': 85, 'min_samples_split': 10, 'min_samples_leaf': 5, 'class_weight': None}. Best is trial 1 with value: 0.7955218855218855.\u001b[0m\n",
      "\u001b[32m[I 2022-07-23 11:47:36,328]\u001b[0m Trial 5 finished with value: 0.7954713804713804 and parameters: {'n_estimators': 1020, 'max_depth': 80, 'min_samples_split': 10, 'min_samples_leaf': 2, 'class_weight': None}. Best is trial 1 with value: 0.7955218855218855.\u001b[0m\n",
      "\u001b[32m[I 2022-07-23 11:54:26,876]\u001b[0m Trial 6 finished with value: 0.7999158249158248 and parameters: {'n_estimators': 1180, 'max_depth': 100, 'min_samples_split': 5, 'min_samples_leaf': 2, 'class_weight': None}. Best is trial 6 with value: 0.7999158249158248.\u001b[0m\n",
      "\u001b[32m[I 2022-07-23 11:59:56,137]\u001b[0m Trial 7 finished with value: 0.795875420875421 and parameters: {'n_estimators': 980, 'max_depth': 50, 'min_samples_split': 10, 'min_samples_leaf': 2, 'class_weight': None}. Best is trial 6 with value: 0.7999158249158248.\u001b[0m\n",
      "\u001b[32m[I 2022-07-23 12:07:53,398]\u001b[0m Trial 8 finished with value: 0.7956565656565656 and parameters: {'n_estimators': 1370, 'max_depth': 70, 'min_samples_split': 10, 'min_samples_leaf': 2, 'class_weight': None}. Best is trial 6 with value: 0.7999158249158248.\u001b[0m\n",
      "\u001b[32m[I 2022-07-23 12:13:10,082]\u001b[0m Trial 9 finished with value: 0.7828787878787878 and parameters: {'n_estimators': 1050, 'max_depth': 65, 'min_samples_split': 10, 'min_samples_leaf': 5, 'class_weight': None}. Best is trial 6 with value: 0.7999158249158248.\u001b[0m\n",
      "\u001b[32m[I 2022-07-23 12:22:36,292]\u001b[0m Trial 10 finished with value: 0.8085521885521885 and parameters: {'n_estimators': 1430, 'max_depth': 100, 'min_samples_split': 5, 'min_samples_leaf': 1, 'class_weight': None}. Best is trial 10 with value: 0.8085521885521885.\u001b[0m\n",
      "\u001b[32m[I 2022-07-23 12:32:17,122]\u001b[0m Trial 11 finished with value: 0.8086531986531986 and parameters: {'n_estimators': 1470, 'max_depth': 100, 'min_samples_split': 5, 'min_samples_leaf': 1, 'class_weight': None}. Best is trial 11 with value: 0.8086531986531986.\u001b[0m\n",
      "\u001b[32m[I 2022-07-23 12:42:11,040]\u001b[0m Trial 12 finished with value: 0.8087710437710438 and parameters: {'n_estimators': 1530, 'max_depth': 90, 'min_samples_split': 5, 'min_samples_leaf': 1, 'class_weight': None}. Best is trial 12 with value: 0.8087710437710438.\u001b[0m\n",
      "\u001b[32m[I 2022-07-23 12:52:42,543]\u001b[0m Trial 13 finished with value: 0.8086363636363636 and parameters: {'n_estimators': 1580, 'max_depth': 90, 'min_samples_split': 5, 'min_samples_leaf': 1, 'class_weight': None}. Best is trial 12 with value: 0.8087710437710438.\u001b[0m\n",
      "\u001b[32m[I 2022-07-23 13:02:35,754]\u001b[0m Trial 14 finished with value: 0.8085521885521885 and parameters: {'n_estimators': 1500, 'max_depth': 90, 'min_samples_split': 5, 'min_samples_leaf': 1, 'class_weight': None}. Best is trial 12 with value: 0.8087710437710438.\u001b[0m\n",
      "\u001b[32m[I 2022-07-23 13:12:32,957]\u001b[0m Trial 15 finished with value: 0.7930976430976431 and parameters: {'n_estimators': 1700, 'max_depth': 90, 'min_samples_split': 5, 'min_samples_leaf': 3, 'class_weight': None}. Best is trial 12 with value: 0.8087710437710438.\u001b[0m\n",
      "\u001b[32m[I 2022-07-23 13:22:52,738]\u001b[0m Trial 16 finished with value: 0.8085521885521885 and parameters: {'n_estimators': 1500, 'max_depth': 100, 'min_samples_split': 5, 'min_samples_leaf': 1, 'class_weight': None}. Best is trial 12 with value: 0.8087710437710438.\u001b[0m\n",
      "\u001b[32m[I 2022-07-23 13:29:46,843]\u001b[0m Trial 17 finished with value: 0.7931144781144782 and parameters: {'n_estimators': 1260, 'max_depth': 80, 'min_samples_split': 5, 'min_samples_leaf': 3, 'class_weight': None}. Best is trial 12 with value: 0.8087710437710438.\u001b[0m\n",
      "\u001b[32m[I 2022-07-23 13:37:34,688]\u001b[0m Trial 18 finished with value: 0.7930303030303031 and parameters: {'n_estimators': 1390, 'max_depth': 95, 'min_samples_split': 5, 'min_samples_leaf': 3, 'class_weight': None}. Best is trial 12 with value: 0.8087710437710438.\u001b[0m\n",
      "\u001b[32m[I 2022-07-23 13:47:33,767]\u001b[0m Trial 19 finished with value: 0.8087373737373736 and parameters: {'n_estimators': 1520, 'max_depth': 85, 'min_samples_split': 5, 'min_samples_leaf': 1, 'class_weight': None}. Best is trial 12 with value: 0.8087710437710438.\u001b[0m\n",
      "\u001b[32m[I 2022-07-23 13:57:53,476]\u001b[0m Trial 20 finished with value: 0.8086195286195286 and parameters: {'n_estimators': 1590, 'max_depth': 80, 'min_samples_split': 5, 'min_samples_leaf': 1, 'class_weight': None}. Best is trial 12 with value: 0.8087710437710438.\u001b[0m\n",
      "\u001b[32m[I 2022-07-23 14:08:08,636]\u001b[0m Trial 21 finished with value: 0.8085858585858586 and parameters: {'n_estimators': 1490, 'max_depth': 85, 'min_samples_split': 5, 'min_samples_leaf': 1, 'class_weight': None}. Best is trial 12 with value: 0.8087710437710438.\u001b[0m\n"
     ]
    }
   ],
   "source": [
    "study.optimize(lambda trial: objective_dt(trial, x_train_trans, y_train), n_trials=30,  gc_after_trial=True)"
   ]
  },
  {
   "cell_type": "code",
   "execution_count": null,
   "metadata": {},
   "outputs": [],
   "source": [
    "rf = RandomForestClassifier()\n",
    "\n",
    "rf_search = RandomizedSearchCV(estimator = rf, param_distributions = random_grid, \n",
    "                               n_iter = 100, cv = 3, verbose=2, random_state=42, n_jobs = -1)\n",
    "\n",
    "rf_search.fit(x_train_trans, y_train)\n",
    "rf_search.best_params_S"
   ]
  },
  {
   "cell_type": "markdown",
   "metadata": {},
   "source": [
    "#### Bagging"
   ]
  },
  {
   "cell_type": "code",
   "execution_count": null,
   "metadata": {},
   "outputs": [],
   "source": [
    "from sklearn.ensemble import BaggingClassifier\n",
    "from sklearn.tree import DecisionTreeClassifier"
   ]
  },
  {
   "cell_type": "code",
   "execution_count": null,
   "metadata": {},
   "outputs": [],
   "source": [
    "bagging = BaggingClassifier(DecisionTreeClassifier(random_state=42), n_estimators=500, max_samples=0.7,\n",
    "                           bootstrap=True, n_jobs=-1)\n",
    "bagging.fit(x_train_trans, y_train)"
   ]
  },
  {
   "cell_type": "code",
   "execution_count": null,
   "metadata": {},
   "outputs": [],
   "source": [
    "bagging_scores = cross_val_score(bagging, x_train_trans, y_train,\n",
    "                                scoring=\"accuracy\", cv=5)\n",
    "bagging_scores.mean()"
   ]
  },
  {
   "cell_type": "markdown",
   "metadata": {},
   "source": [
    "#### Ensemble of RForest, Neural net and XGB"
   ]
  },
  {
   "cell_type": "code",
   "execution_count": 68,
   "metadata": {},
   "outputs": [],
   "source": [
    "from sklearn.ensemble import VotingClassifier\n",
    "forest = RandomForestClassifier(random_state=42, n_estimators=600, min_samples_split=10, oob_score=True,\n",
    "                                n_jobs=-1, max_features='sqrt', bootstrap=True,max_depth=110)\n",
    "neighbor = KNeighborsClassifier(n_neighbors=3)\n",
    "lgb = LGBMClassifier()\n",
    "\n",
    "voting_clf = VotingClassifier(estimators = [('rf',forest), ('gb',lgb), ('neigh', neighbor)],  voting='soft',weights=[3,1,1])"
   ]
  },
  {
   "cell_type": "code",
   "execution_count": 69,
   "metadata": {},
   "outputs": [
    {
     "data": {
      "text/plain": [
       "0.8114309764309764"
      ]
     },
     "execution_count": 69,
     "metadata": {},
     "output_type": "execute_result"
    }
   ],
   "source": [
    "voting_clf.fit(x_train_trans, y_train)\n",
    "scores = cross_val_score(voting_clf, x_train_trans, y_train,\n",
    "                                scoring=\"accuracy\", cv=5)\n",
    "scores.mean()"
   ]
  },
  {
   "cell_type": "code",
   "execution_count": null,
   "metadata": {},
   "outputs": [],
   "source": []
  },
  {
   "cell_type": "markdown",
   "metadata": {},
   "source": [
    "#### SVM classifier"
   ]
  },
  {
   "cell_type": "code",
   "execution_count": null,
   "metadata": {},
   "outputs": [],
   "source": [
    "svc.fit(x_train_trans, y_train)"
   ]
  },
  {
   "cell_type": "code",
   "execution_count": null,
   "metadata": {},
   "outputs": [],
   "source": [
    "# cross-validation\n",
    "svc_scores = cross_val_score(svc, x_train_trans, y_train, scoring=\"accuracy\", cv=2)\n",
    "svc_scores"
   ]
  },
  {
   "cell_type": "markdown",
   "metadata": {},
   "source": [
    "#### K-NN"
   ]
  },
  {
   "cell_type": "code",
   "execution_count": 49,
   "metadata": {},
   "outputs": [],
   "source": [
    "from sklearn.neighbors import KNeighborsClassifier"
   ]
  },
  {
   "cell_type": "code",
   "execution_count": null,
   "metadata": {},
   "outputs": [],
   "source": [
    "neighbor = KNeighborsClassifier(n_neighbors=3)"
   ]
  },
  {
   "cell_type": "code",
   "execution_count": null,
   "metadata": {},
   "outputs": [],
   "source": [
    "neighbor.fit(x_train_trans, y_train)"
   ]
  },
  {
   "cell_type": "code",
   "execution_count": null,
   "metadata": {},
   "outputs": [],
   "source": [
    "# cross-validation\n",
    "knn_scores = cross_val_score(neighbor, x_train_trans, y_train, scoring=\"accuracy\", cv=3)\n",
    "knn_scores"
   ]
  },
  {
   "cell_type": "markdown",
   "metadata": {},
   "source": [
    "#### lgbm classifier"
   ]
  },
  {
   "cell_type": "code",
   "execution_count": 55,
   "metadata": {},
   "outputs": [],
   "source": [
    "from lightgbm import LGBMClassifier"
   ]
  },
  {
   "cell_type": "code",
   "execution_count": null,
   "metadata": {},
   "outputs": [],
   "source": [
    "lgb = lightgbm.LGBMClassifier(random_state=42, n_estimators=600, min_samples_split=2, oob_score=True,\n",
    "                                n_jobs=-1, max_features='sqrt', bootstrap=False,max_depth=60,minimum_sample_leaf = 4)"
   ]
  },
  {
   "cell_type": "code",
   "execution_count": null,
   "metadata": {},
   "outputs": [],
   "source": [
    "lgb.fit(x_train_trans, y_train)\n",
    "\n"
   ]
  },
  {
   "cell_type": "code",
   "execution_count": null,
   "metadata": {},
   "outputs": [],
   "source": [
    "# cross-validation\n",
    "lgb_scores = cross_val_score(lgb, x_train_trans, y_train, scoring=\"accuracy\", cv=5)\n",
    "lgb_scores.mean()"
   ]
  },
  {
   "cell_type": "code",
   "execution_count": null,
   "metadata": {},
   "outputs": [],
   "source": [
    "\n",
    "\n",
    "lgb_search = RandomizedSearchCV(estimator = lgb, param_distributions = random_grid, \n",
    "                               n_iter = 100, cv = 3, verbose=2, random_state=42, n_jobs = -1)\n",
    "\n",
    "lgb_search.fit(x_train_trans, y_train)\n",
    "lgb_search.best_params_"
   ]
  },
  {
   "cell_type": "markdown",
   "metadata": {},
   "source": [
    "#### Neural net"
   ]
  },
  {
   "cell_type": "code",
   "execution_count": null,
   "metadata": {},
   "outputs": [],
   "source": [
    "from sklearn.neural_network import MLPClassifier"
   ]
  },
  {
   "cell_type": "code",
   "execution_count": null,
   "metadata": {},
   "outputs": [],
   "source": [
    "net = MLPClassifier(random_state=42)"
   ]
  },
  {
   "cell_type": "code",
   "execution_count": null,
   "metadata": {},
   "outputs": [],
   "source": [
    "net.fit(x_train_trans, y_train)"
   ]
  },
  {
   "cell_type": "code",
   "execution_count": null,
   "metadata": {},
   "outputs": [],
   "source": [
    "# cross-validation\n",
    "net_scores = cross_val_score(net, x_train_trans, y_train, scoring=\"accuracy\", cv=3)\n",
    "net_scores"
   ]
  },
  {
   "cell_type": "code",
   "execution_count": null,
   "metadata": {},
   "outputs": [],
   "source": []
  },
  {
   "cell_type": "markdown",
   "metadata": {},
   "source": [
    "### Test set predictions"
   ]
  },
  {
   "cell_type": "code",
   "execution_count": 40,
   "metadata": {},
   "outputs": [],
   "source": [
    "pred_output = forest.predict(test_data_trans)"
   ]
  },
  {
   "cell_type": "code",
   "execution_count": 41,
   "metadata": {},
   "outputs": [],
   "source": [
    "pred_output = pd.DataFrame(pred_output, columns=['status_group'])"
   ]
  },
  {
   "cell_type": "code",
   "execution_count": 42,
   "metadata": {},
   "outputs": [],
   "source": [
    "output = pd.concat([test_data['id'], pred_output.loc[:,'status_group']], axis=1)"
   ]
  },
  {
   "cell_type": "code",
   "execution_count": 43,
   "metadata": {},
   "outputs": [
    {
     "data": {
      "text/html": [
       "<div>\n",
       "<style scoped>\n",
       "    .dataframe tbody tr th:only-of-type {\n",
       "        vertical-align: middle;\n",
       "    }\n",
       "\n",
       "    .dataframe tbody tr th {\n",
       "        vertical-align: top;\n",
       "    }\n",
       "\n",
       "    .dataframe thead th {\n",
       "        text-align: right;\n",
       "    }\n",
       "</style>\n",
       "<table border=\"1\" class=\"dataframe\">\n",
       "  <thead>\n",
       "    <tr style=\"text-align: right;\">\n",
       "      <th></th>\n",
       "      <th>id</th>\n",
       "      <th>status_group</th>\n",
       "    </tr>\n",
       "  </thead>\n",
       "  <tbody>\n",
       "    <tr>\n",
       "      <th>0</th>\n",
       "      <td>50785</td>\n",
       "      <td>non functional</td>\n",
       "    </tr>\n",
       "    <tr>\n",
       "      <th>1</th>\n",
       "      <td>51630</td>\n",
       "      <td>functional</td>\n",
       "    </tr>\n",
       "    <tr>\n",
       "      <th>2</th>\n",
       "      <td>17168</td>\n",
       "      <td>functional</td>\n",
       "    </tr>\n",
       "    <tr>\n",
       "      <th>3</th>\n",
       "      <td>45559</td>\n",
       "      <td>non functional</td>\n",
       "    </tr>\n",
       "    <tr>\n",
       "      <th>4</th>\n",
       "      <td>49871</td>\n",
       "      <td>functional</td>\n",
       "    </tr>\n",
       "  </tbody>\n",
       "</table>\n",
       "</div>"
      ],
      "text/plain": [
       "      id    status_group\n",
       "0  50785  non functional\n",
       "1  51630      functional\n",
       "2  17168      functional\n",
       "3  45559  non functional\n",
       "4  49871      functional"
      ]
     },
     "execution_count": 43,
     "metadata": {},
     "output_type": "execute_result"
    }
   ],
   "source": [
    "output.head()"
   ]
  },
  {
   "cell_type": "code",
   "execution_count": null,
   "metadata": {},
   "outputs": [],
   "source": []
  },
  {
   "cell_type": "code",
   "execution_count": 44,
   "metadata": {},
   "outputs": [],
   "source": [
    "output.to_csv(r\"submission23.csv\", index=False)"
   ]
  },
  {
   "cell_type": "code",
   "execution_count": null,
   "metadata": {},
   "outputs": [],
   "source": []
  },
  {
   "cell_type": "code",
   "execution_count": null,
   "metadata": {},
   "outputs": [],
   "source": []
  }
 ],
 "metadata": {
  "kernelspec": {
   "display_name": "Python 3 (ipykernel)",
   "language": "python",
   "name": "python3"
  },
  "language_info": {
   "codemirror_mode": {
    "name": "ipython",
    "version": 3
   },
   "file_extension": ".py",
   "mimetype": "text/x-python",
   "name": "python",
   "nbconvert_exporter": "python",
   "pygments_lexer": "ipython3",
   "version": "3.9.13"
  }
 },
 "nbformat": 4,
 "nbformat_minor": 4
}
